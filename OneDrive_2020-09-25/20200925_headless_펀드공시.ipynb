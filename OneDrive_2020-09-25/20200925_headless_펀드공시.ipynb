{
 "cells": [
  {
   "cell_type": "code",
   "execution_count": 1,
   "metadata": {},
   "outputs": [],
   "source": [
    "from selenium import webdriver"
   ]
  },
  {
   "cell_type": "code",
   "execution_count": 2,
   "metadata": {},
   "outputs": [],
   "source": [
    "from selenium.webdriver.chrome.options import Options"
   ]
  },
  {
   "cell_type": "code",
   "execution_count": 3,
   "metadata": {},
   "outputs": [],
   "source": [
    "chrome_option = Options()"
   ]
  },
  {
   "cell_type": "code",
   "execution_count": 4,
   "metadata": {},
   "outputs": [],
   "source": [
    "chrome_option.add_argument(\"--headless\")"
   ]
  },
  {
   "cell_type": "code",
   "execution_count": 6,
   "metadata": {},
   "outputs": [],
   "source": [
    "driver = webdriver.Chrome(\"c:/Chrome/chromedriver.exe\", options= chrome_option)"
   ]
  },
  {
   "cell_type": "code",
   "execution_count": 10,
   "metadata": {},
   "outputs": [],
   "source": [
    "driver.get(\"https://blog.naver.com/kpapado/221995582723\")"
   ]
  },
  {
   "cell_type": "code",
   "execution_count": 13,
   "metadata": {},
   "outputs": [
    {
     "data": {
      "text/plain": [
       "True"
      ]
     },
     "execution_count": 13,
     "metadata": {},
     "output_type": "execute_result"
    }
   ],
   "source": [
    "driver.set_window_size(1920, 20000)\n",
    "driver.save_screenshot(\"./blog2.jpg\")"
   ]
  },
  {
   "cell_type": "code",
   "execution_count": 9,
   "metadata": {},
   "outputs": [
    {
     "name": "stdout",
     "output_type": "stream",
     "text": [
      " D 드라이브의 볼륨: ESD-USB\n",
      " 볼륨 일련 번호: F4A9-0C89\n",
      "\n",
      " D:\\20200925\\펀드 데이터 전처리 및 시각화 디렉터리\n",
      "\n",
      "2020-09-25  오전 09:06    <DIR>          .\n",
      "2020-09-25  오전 09:06    <DIR>          ..\n",
      "2020-08-13  오후 01:19            16,394 펀드 데이터 전처리 및 시각화 2.ipynb\n",
      "2020-08-13  오후 01:20           132,744 펀드 데이터 전처리 및 시각화 3.ipynb\n",
      "2020-08-13  오후 01:20            90,146 펀드 데이터 전처리 및 시각화 4.ipynb\n",
      "2020-08-13  오후 01:20            60,429 펀드 데이터 전처리 및 시각화.ipynb\n",
      "2020-09-22  오전 04:39    <DIR>          .ipynb_checkpoints\n",
      "2020-09-25  오전 11:58             1,178 Untitled.ipynb\n",
      "2020-09-25  오전 11:47            15,063 Untitled1.ipynb\n",
      "2020-09-25  오후 02:41             1,558 Untitled2.ipynb\n",
      "2020-09-25  오후 02:42           180,877 naver.jpg\n",
      "               8개 파일             498,389 바이트\n",
      "               3개 디렉터리  18,073,485,312 바이트 남음\n"
     ]
    }
   ],
   "source": [
    "!dir"
   ]
  },
  {
   "cell_type": "markdown",
   "metadata": {},
   "source": [
    "# 펀드공시"
   ]
  },
  {
   "cell_type": "code",
   "execution_count": 14,
   "metadata": {},
   "outputs": [],
   "source": [
    "url = \"http://dis.kofia.or.kr/websquare/index.jsp?w2xPath=/wq/fundann/DISOnlineFund.xml&divisionId=MDIS01007001000000&serviceId=SDIS01007001000\""
   ]
  },
  {
   "cell_type": "code",
   "execution_count": 15,
   "metadata": {},
   "outputs": [],
   "source": [
    "driver = webdriver.Chrome('c:/Chrome/chromedriver.exe')"
   ]
  },
  {
   "cell_type": "code",
   "execution_count": 17,
   "metadata": {},
   "outputs": [],
   "source": [
    "driver.get(url)"
   ]
  },
  {
   "cell_type": "code",
   "execution_count": 18,
   "metadata": {},
   "outputs": [],
   "source": [
    "driver.find_element_by_css_selector(\"#stdDtOp > li.w2radio_item.w2radio_item_1 > label\").click()"
   ]
  },
  {
   "cell_type": "code",
   "execution_count": 20,
   "metadata": {},
   "outputs": [],
   "source": [
    "driver.find_element_by_css_selector(\"#btnSearImg\").click()"
   ]
  },
  {
   "cell_type": "code",
   "execution_count": 21,
   "metadata": {},
   "outputs": [],
   "source": [
    "driver.find_element_by_css_selector(\"#excelDownBtn\").click()"
   ]
  },
  {
   "cell_type": "code",
   "execution_count": 22,
   "metadata": {},
   "outputs": [],
   "source": [
    "import glob"
   ]
  },
  {
   "cell_type": "code",
   "execution_count": null,
   "metadata": {},
   "outputs": [],
   "source": []
  }
 ],
 "metadata": {
  "kernelspec": {
   "display_name": "Python 3",
   "language": "python",
   "name": "python3"
  },
  "language_info": {
   "codemirror_mode": {
    "name": "ipython",
    "version": 3
   },
   "file_extension": ".py",
   "mimetype": "text/x-python",
   "name": "python",
   "nbconvert_exporter": "python",
   "pygments_lexer": "ipython3",
   "version": "3.7.6"
  }
 },
 "nbformat": 4,
 "nbformat_minor": 4
}
