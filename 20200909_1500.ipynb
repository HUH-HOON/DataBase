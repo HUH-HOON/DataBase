{
 "cells": [
  {
   "cell_type": "code",
   "execution_count": null,
   "metadata": {},
   "outputs": [],
   "source": [
    "import requests\n",
    "r= requests.get(\"http://www.en-core.com/customer/cs\")\n",
    "from bs4 import BeautifulSoup as BS\n",
    "bs = BS(r.text)"
   ]
  },
  {
   "cell_type": "code",
   "execution_count": null,
   "metadata": {},
   "outputs": [],
   "source": [
    "for x in bs.findAll(\"li\", class_='mail'):\n",
    "    print (x.text)"
   ]
  },
  {
   "cell_type": "code",
   "execution_count": null,
   "metadata": {},
   "outputs": [],
   "source": [
    "import re # 정규식 패키지 "
   ]
  },
  {
   "cell_type": "code",
   "execution_count": null,
   "metadata": {},
   "outputs": [],
   "source": [
    "r.text"
   ]
  },
  {
   "cell_type": "code",
   "execution_count": null,
   "metadata": {},
   "outputs": [],
   "source": [
    "pattern = re.compile(\"[\\w._%+-]+@[\\w.-]+\\.[a-zA-Z]{2,4}\")"
   ]
  },
  {
   "cell_type": "code",
   "execution_count": null,
   "metadata": {},
   "outputs": [],
   "source": [
    "pattern.findall(r.text)"
   ]
  },
  {
   "cell_type": "code",
   "execution_count": null,
   "metadata": {},
   "outputs": [],
   "source": [
    "email = [\"sales@en-core.com\",\n",
    "        \"sales2@en-core.com\",\n",
    "        \"enc_member@en-core.com\",\n",
    "        \"support@en-core.com\",\n",
    "        \"enc_marketing@en-core.com\",\n",
    "        \"playdata@playdata.io\",\n",
    "        \"E.webmaster@en-core.com\",]"
   ]
  },
  {
   "cell_type": "code",
   "execution_count": null,
   "metadata": {},
   "outputs": [],
   "source": [
    "프로듀스 = [\"강경원\",\"강미나\",\"강시라\",\"강시원\",\"강시현\",\"강예빈\",\"권은빈\",\"기희현\",\"김나영\",\"김다니\",\"김다정\",\"김도연\",\"김도희\",\"여담\",\"김미소\",\"김민경\",\"김민정\",\"김민지\",\"김보선\",]"
   ]
  },
  {
   "cell_type": "code",
   "execution_count": null,
   "metadata": {},
   "outputs": [],
   "source": [
    "re.search('href=\"(.*)\"', '<a href=\"index.html\">HERE</a><font size=\"10\">').group()"
   ]
  },
  {
   "cell_type": "code",
   "execution_count": null,
   "metadata": {},
   "outputs": [],
   "source": [
    "re.search('href=\"(.*?)\"', '<a href=\"index.html\">HERE</a><font size=\"10\">').group()"
   ]
  },
  {
   "cell_type": "code",
   "execution_count": null,
   "metadata": {},
   "outputs": [],
   "source": [
    "text = \"\"\"'<a href=\"index.html\">HERE</a><font size=\"10\">'\"\"\""
   ]
  },
  {
   "cell_type": "code",
   "execution_count": null,
   "metadata": {},
   "outputs": [],
   "source": [
    "pattern = re.compile('href=\"(.*?)\"')"
   ]
  },
  {
   "cell_type": "code",
   "execution_count": null,
   "metadata": {},
   "outputs": [],
   "source": [
    "pattern.findall(text)"
   ]
  },
  {
   "cell_type": "code",
   "execution_count": null,
   "metadata": {},
   "outputs": [],
   "source": [
    "text = \"\"\"201901 Dost thou love life? Then do not squander time, for that is the stuff life is made of. (Benjamin Franklin) 그대는 인생을 사랑하는가? 그렇다면 시간을 낭비하지 말라, 시간이야말로 인생을 형성하는 재료이기 때문이다. (벤자민 프랭클린)\n",
    "201902 Life is like riding a bicycle. To keep your balance you must keep moving. (Albert Einstein) 인생은 자전거를 타는 것과 같다. 균형을 잡으려면 움직여야 한다. (알버트 아인슈타인)\n",
    "201903 Life is a tragedy when seen in close-up, but a comedy in long-shot. (Charlie Chaplin) 인생은 가까이서 보면 비극이지만 멀리서 보면 희극이다 (찰리 채플린)\n",
    "201904 Dream as if you'll live forever. Live as if you'll die today. (James Dean) 영원히 살 것처럼 꿈꾸고 오늘 죽을 것처럼 살아라. (제임스 딘)\n",
    "201905 Life is an endless series of trainwrecks with only brief commercial like breaks of happiness. (Deadpool) 인생이란 괴로움의 연속이고, 행복은 광고처럼 짧다. (데드풀)\n",
    "\"\"\""
   ]
  },
  {
   "cell_type": "code",
   "execution_count": null,
   "metadata": {},
   "outputs": [],
   "source": [
    "rt= re.search(\"Life.*\", text)"
   ]
  },
  {
   "cell_type": "code",
   "execution_count": null,
   "metadata": {},
   "outputs": [],
   "source": [
    "rt.group()"
   ]
  },
  {
   "cell_type": "code",
   "execution_count": null,
   "metadata": {},
   "outputs": [],
   "source": [
    "pattern = re.compile(\"Life.*\")"
   ]
  },
  {
   "cell_type": "code",
   "execution_count": null,
   "metadata": {},
   "outputs": [],
   "source": [
    "pattern.findall(text)"
   ]
  },
  {
   "cell_type": "code",
   "execution_count": null,
   "metadata": {},
   "outputs": [],
   "source": [
    "pattern = re.compile(\"[가-힣].+[가-힣][\\.\\?]\")"
   ]
  },
  {
   "cell_type": "code",
   "execution_count": null,
   "metadata": {},
   "outputs": [],
   "source": [
    "pattern.findall(text)"
   ]
  },
  {
   "cell_type": "code",
   "execution_count": null,
   "metadata": {},
   "outputs": [],
   "source": [
    "pattern  = re.compile( '(?<=\\()[a-zA-Z\\s^)]*(?=\\))'  )"
   ]
  },
  {
   "cell_type": "code",
   "execution_count": null,
   "metadata": {},
   "outputs": [],
   "source": [
    "pattern.findall(text)"
   ]
  },
  {
   "cell_type": "code",
   "execution_count": null,
   "metadata": {},
   "outputs": [],
   "source": [
    "s = \"\"\"Beautiful Soup, so rich and green,\n",
    "Waiting in a hot tureen!\n",
    "Who for such dainties would not stoop?\n",
    "Soup of the evening, beautiful Soup!\"\"\""
   ]
  },
  {
   "cell_type": "code",
   "execution_count": null,
   "metadata": {},
   "outputs": [],
   "source": [
    "aa"
   ]
  },
  {
   "cell_type": "code",
   "execution_count": null,
   "metadata": {},
   "outputs": [],
   "source": [
    "print(s.replace(\"\\n\", \"\\t\"))"
   ]
  },
  {
   "cell_type": "code",
   "execution_count": null,
   "metadata": {},
   "outputs": [],
   "source": [
    "p = re.compile('^.+')"
   ]
  },
  {
   "cell_type": "code",
   "execution_count": null,
   "metadata": {},
   "outputs": [],
   "source": [
    "p.findall(s)"
   ]
  },
  {
   "cell_type": "markdown",
   "metadata": {},
   "source": [
    "MultiLine -> 여러줄에 각각의 정규 표현식 적용"
   ]
  },
  {
   "cell_type": "code",
   "execution_count": null,
   "metadata": {},
   "outputs": [],
   "source": [
    "p = re.compile('^.+', re.M)"
   ]
  },
  {
   "cell_type": "code",
   "execution_count": null,
   "metadata": {},
   "outputs": [],
   "source": [
    "p.findall(s)"
   ]
  },
  {
   "cell_type": "markdown",
   "metadata": {},
   "source": [
    "DOTALL -> 개행문자 포함 "
   ]
  },
  {
   "cell_type": "code",
   "execution_count": null,
   "metadata": {},
   "outputs": [],
   "source": [
    "p = re.compile('green.+Waiting', re.S)"
   ]
  },
  {
   "cell_type": "code",
   "execution_count": null,
   "metadata": {},
   "outputs": [],
   "source": [
    "p.findall(s)"
   ]
  },
  {
   "cell_type": "code",
   "execution_count": null,
   "metadata": {},
   "outputs": [],
   "source": [
    "s"
   ]
  },
  {
   "cell_type": "code",
   "execution_count": null,
   "metadata": {},
   "outputs": [],
   "source": [
    "p = re.compile('green.+Waiting')\n",
    "p.findall(s)"
   ]
  },
  {
   "cell_type": "markdown",
   "metadata": {},
   "source": [
    "VERBOSE"
   ]
  },
  {
   "cell_type": "code",
   "execution_count": null,
   "metadata": {},
   "outputs": [],
   "source": [
    "p = re.compile('''\n",
    "(?<=\\()\n",
    "[가-힣\\s^)]*\n",
    "(?=\\))''')\n",
    "p.findall(text)"
   ]
  },
  {
   "cell_type": "code",
   "execution_count": null,
   "metadata": {},
   "outputs": [],
   "source": [
    "p = re.compile('''\n",
    "(?<=\\()\n",
    "[가-힣\\s^)]*\n",
    "(?=\\))''', re.X)\n",
    "p.findall(text)"
   ]
  },
  {
   "cell_type": "code",
   "execution_count": null,
   "metadata": {},
   "outputs": [],
   "source": [
    "pattern  = re.compile( '(?<=\\()[a-zA-Z\\s^)]*(?=\\))'  )\n",
    "pattern.sub(\"서찬웅\", text)"
   ]
  },
  {
   "cell_type": "code",
   "execution_count": null,
   "metadata": {},
   "outputs": [],
   "source": []
  },
  {
   "cell_type": "code",
   "execution_count": null,
   "metadata": {},
   "outputs": [],
   "source": [
    "r = requests.get(\"https://programmers.co.kr/learn/courses/30/lessons/60052\")"
   ]
  },
  {
   "cell_type": "code",
   "execution_count": null,
   "metadata": {},
   "outputs": [],
   "source": [
    "url = \"https://programmers.co.kr/learn/courses/30/lessons/{}\""
   ]
  },
  {
   "cell_type": "code",
   "execution_count": null,
   "metadata": {},
   "outputs": [],
   "source": [
    "for x in range(60000, 60100):\n",
    "    r = requests.get(url.format(x))\n",
    "    if r.status_code == 200:\n",
    "        print(url.format(x))"
   ]
  },
  {
   "cell_type": "code",
   "execution_count": null,
   "metadata": {},
   "outputs": [],
   "source": [
    "r.status_code"
   ]
  },
  {
   "cell_type": "code",
   "execution_count": null,
   "metadata": {},
   "outputs": [],
   "source": [
    "r= requests.get(\"https://www.koreabaseball.com/Player/Search.aspx\")"
   ]
  },
  {
   "cell_type": "code",
   "execution_count": null,
   "metadata": {},
   "outputs": [],
   "source": [
    "r.text"
   ]
  },
  {
   "cell_type": "markdown",
   "metadata": {},
   "source": [
    "!pip install selenium"
   ]
  },
  {
   "cell_type": "code",
   "execution_count": 127,
   "metadata": {},
   "outputs": [],
   "source": [
    "from selenium import webdriver"
   ]
  },
  {
   "cell_type": "code",
   "execution_count": 129,
   "metadata": {},
   "outputs": [],
   "source": [
    "d = webdriver.Chrome(\"c:/Chrome/chromedriver.exe\")"
   ]
  },
  {
   "cell_type": "code",
   "execution_count": 75,
   "metadata": {
    "scrolled": true
   },
   "outputs": [
    {
     "data": {
      "text/plain": [
       "'<html lang=\"ko\"><head><title>선수조회 | 선수현황 | KBO</title><meta http-equiv=\"Content-Type\" content=\"text/html; charset=utf-8\"><meta http-equiv=\"Content-Script-Type\" content=\"text/javascript\"><meta http-equiv=\"Content-Style-Type\" content=\"text/css\"><meta http-equiv=\"X-UA-Compatible\" content=\"IE=edge, Chrome\"><meta name=\"title\" content=\"KBO\"><meta name=\"author\" content=\"스포츠투아이\"><meta name=\"keywords\" content=\"KBO, 한국야구위원회, 프로야구, KBO 리그, 퓨처스리그, 프로야구순위, 프로야구 일정\"><meta name=\"viewport\" content=\"width=1200\"><meta property=\"og:type\" content=\"website\"><meta property=\"og:title\" content=\"KBO 홈페이지\"><meta property=\"og:description\" content=\"KBO, 한국야구위원회, 프로야구, KBO 리그, 퓨처스리그, 프로야구순위, 프로야구 일정\"><meta property=\"og:image\" content=\"//lgcxydabfbch3774324.cdn.ntruss.com/KBO_IMAGE/KBOHome/resources/images/common/open_graph_kbo.png\"><meta property=\"og:url\" content=\"//www.koreabaseball.com/\">\\n\\n\\t<link rel=\"shortcut icon\" type=\"image/x-icon\" href=\"//lgcxydabfbch3774324.cdn.ntruss.com/KBO_IMAGE/KBOHome/resources/images/common/favicon.ico\">\\n    <link href=\"/resources/css/font.css\" rel=\"stylesheet\" type=\"text/css\">\\n\\t<link rel=\"stylesheet\" type=\"text/css\" href=\"//lgcxydabfbch3774324.cdn.ntruss.com/KBO_IMAGE/KBOHome/resources/min/css/reset.min.css?version=20200710\">\\n\\t<link rel=\"stylesheet\" type=\"text/css\" href=\"//lgcxydabfbch3774324.cdn.ntruss.com/KBO_IMAGE/KBOHome/resources/min/css/common.min.css?version=20200710\">\\n\\t<link rel=\"stylesheet\" type=\"text/css\" href=\"//lgcxydabfbch3774324.cdn.ntruss.com/KBO_IMAGE/KBOHome/resources/min/css/layout.min.css?version=20200710\">\\n\\t<link rel=\"stylesheet\" type=\"text/css\" href=\"//lgcxydabfbch3774324.cdn.ntruss.com/KBO_IMAGE/KBOHome/resources/min/css/contents.min.css?version=20200710\">\\n    <link rel=\"stylesheet\" type=\"text/css\" href=\"//lgcxydabfbch3774324.cdn.ntruss.com/KBO_IMAGE/KBOHome/resources/min/css/jquery-ui.min.css?version=20200710\">\\n    <link rel=\"stylesheet\" type=\"text/css\" href=\"//lgcxydabfbch3774324.cdn.ntruss.com/KBO_IMAGE/KBOHome/resources/min/css/jquery-ui-theme.min.css?version=20200710\">\\n\\t<link rel=\"stylesheet\" type=\"text/css\" href=\"//lgcxydabfbch3774324.cdn.ntruss.com/KBO_IMAGE/KBOHome/resources/min/css/jquery.bxslider.min.css?version=20200710\">\\n\\n\\t<script async=\"\" src=\"//www.google-analytics.com/analytics.js\"></script><script type=\"text/javascript\" charset=\"utf-8\" src=\"//lgcxydabfbch3774324.cdn.ntruss.com/KBO_IMAGE/KBOHome/resources/min/js/jquery-1.12.4.min.js?version=20200710\"></script>\\n    <script type=\"text/javascript\" charset=\"utf-8\" src=\"//lgcxydabfbch3774324.cdn.ntruss.com/KBO_IMAGE/KBOHome/resources/min/js/jquery-migrate-1.1.1.min.js?version=20200710\"></script>\\n    <script type=\"text/javascript\" charset=\"utf-8\" src=\"//lgcxydabfbch3774324.cdn.ntruss.com/KBO_IMAGE/KBOHome/resources/min/js/jquery-ui.min.js?version=20200710\"></script>\\n\\t<script type=\"text/javascript\" charset=\"utf-8\" src=\"//lgcxydabfbch3774324.cdn.ntruss.com/KBO_IMAGE/KBOHome/resources/min/js/jquery.bxslider.min.js?version=20200710\"></script>\\n    <script type=\"text/javascript\" charset=\"utf-8\" src=\"//lgcxydabfbch3774324.cdn.ntruss.com/KBO_IMAGE/KBOHome/resources/min/js/jquery.ui.datepicker-ko.min.js?version=20200710\"></script>\\n    <script type=\"text/javascript\" charset=\"utf-8\" src=\"//lgcxydabfbch3774324.cdn.ntruss.com/KBO_IMAGE/KBOHome/resources/min/js/S2i.Common-1.0.1.min.js?version=20200710\"></script>\\n    <script type=\"text/javascript\" charset=\"utf-8\" src=\"//lgcxydabfbch3774324.cdn.ntruss.com/KBO_IMAGE/KBOHome/resources/min/js/S2i.Paging-1.0.8.min.js?version=20200710\"></script>\\n\\t<script type=\"text/javascript\" charset=\"utf-8\" src=\"//lgcxydabfbch3774324.cdn.ntruss.com/KBO_IMAGE/KBOHome/resources/min/js/common.min.js?version=20200710\"></script>\\n    <script type=\"text/javascript\" charset=\"utf-8\" src=\"//lgcxydabfbch3774324.cdn.ntruss.com/KBO_IMAGE/KBOHome/resources/min/js/S2i.MakeTable-1.0.3.min.js?version=20200710\"></script>\\n    <script type=\"text/javascript\" charset=\"utf-8\" src=\"//lgcxydabfbch3774324.cdn.ntruss.com/KBO_IMAGE/KBOHome/resources/min/js/bTogether.min.js?version=20200710\"></script>\\n    \\n\\t<!--—[if lt IE 9]-->\\n\\t\\t<script src=\"//lgcxydabfbch3774324.cdn.ntruss.com/KBO_IMAGE/KBOHome/resources/min/js/html5shiv.min.js?version=20200710\"></script>\\n\\t<!--[endif]—-->\\n    <script type=\"text/javascript\">\\n        (function (i, s, o, g, r, a, m) {\\n            i[\\'GoogleAnalyticsObject\\'] = r; i[r] = i[r] || function () {\\n                (i[r].q = i[r].q || []).push(arguments)\\n            }, i[r].l = 1 * new Date(); a = s.createElement(o),\\n                m = s.getElementsByTagName(o)[0]; a.async = 1; a.src = g; m.parentNode.insertBefore(a, m)\\n        })(window, document, \\'script\\', \\'//www.google-analytics.com/analytics.js\\', \\'ga\\');\\n\\n        ga(\\'create\\', \\'UA-15700655-14\\', \\'auto\\');\\n        ga(\\'send\\', \\'pageview\\');\\n    </script>\\n    \\n    <link type=\"text/css\" rel=\"stylesheet\" href=\"//lgcxydabfbch3774324.cdn.ntruss.com/KBO_IMAGE/KBOHome/resources/min/css/common_old.min.css?version=20200710\">\\n    <link rel=\"stylesheet\" type=\"text/css\" href=\"//lgcxydabfbch3774324.cdn.ntruss.com/KBO_IMAGE/KBOHome/resources/min/css/sub.min.css?version=20200710\">\\n    \\n\\t<link type=\"text/css\" rel=\"stylesheet\" href=\"//lgcxydabfbch3774324.cdn.ntruss.com/KBO_IMAGE/KBOHome/resources/min/css/player.min.css?version=20200710\">\\n    \\n\\n\\n</head>\\n<body>\\n    <form method=\"post\" action=\"./Search.aspx\" id=\"mainForm\">\\n<div class=\"aspNetHidden\">\\n\\n\\n\\n\\n</div>\\n\\n<script type=\"text/javascript\">\\n//<![CDATA[\\nvar theForm = document.forms[\\'mainForm\\'];\\nif (!theForm) {\\n    theForm = document.mainForm;\\n}\\nfunction __doPostBack(eventTarget, eventArgument) {\\n    if (!theForm.onsubmit || (theForm.onsubmit() != false)) {\\n        theForm.__EVENTTARGET.value = eventTarget;\\n        theForm.__EVENTARGUMENT.value = eventArgument;\\n        theForm.submit();\\n    }\\n}\\n//]]>\\n</script>\\n\\n\\n<script src=\"/WebResource.axd?d=olnV6V0NxhTPpnGME-bNNQ6pi75OV_deSGeqFxpioAx0cQkwDM2mNvhy4kTxbV6cPswqqmdks9Vwl__B9jsMMXiuRyr-_P1xLqWVz_rHh381&amp;t=637103670965614113\" type=\"text/javascript\"></script>\\n\\n\\n<script src=\"/ScriptResource.axd?d=eLqvTZrSDFtYbPijNtyjIT6CVEgjpBaYOXOadsXTlFHYXIHUwPYcJXQzz3Z7lykZBuXl4A9Xj7n7yBoZ8IStMlsNtFc27j6WGyPVl81XsDWWuDpDofyRThhVLkxWNlX4IqkhRSTznXpsTOu2gxjlxeLlbk_PmW_CInh0qHnCDMiBW3zvAHoQSIWpasgKujn20&amp;t=ffffffffecf19baa\" type=\"text/javascript\"></script>\\n<script type=\"text/javascript\">\\n//<![CDATA[\\nif (typeof(Sys) === \\'undefined\\') throw new Error(\\'ASP.NET Ajax 클라이언트 쪽 프레임워크를 로드하지 못했습니다.\\');\\n//]]>\\n</script>\\n\\n<script src=\"/ScriptResource.axd?d=IOnAAAPDuS0PgKHiQk14EYOCdHyPkTAcqSpwegGFc2wfv36lCYBem21UeaNPPaoqZzGNcLB1DcP-3rWrTJ3u4SE4LCAC1YeyOhhg1dfzQudQM2Ecd2jpkeCyI_GYwC1nB5MKkkRs_7ZKlw9FY-9FKGquBfoJ5VCgagj_zlARsUNlnLMfPW9BV7Ix6pqzesGE0&amp;t=ffffffffecf19baa\" type=\"text/javascript\"></script>\\n<div class=\"aspNetHidden\">\\n\\n\\t\\n\\t\\n</div>\\n\\t    <!-- wrap -->\\n\\t    <div id=\"wrap\">\\n\\t\\t    <!-- header -->\\n\\t\\t    <header>\\t\\n\\t\\t\\t    <div id=\"gnb\" class=\"bgf3\">\\n\\t\\t\\t\\t    <div class=\"gnb-wrap\">\\n\\t\\t\\t\\t\\t    <ul class=\"menu\">\\n                            \\n\\t\\t\\t\\t\\t\\t    <li><a href=\"/Member/Login.aspx\">로그인</a></li>\\n                            <li><a href=\"/Member/Join/Accessterms.aspx\">회원가입</a></li>\\n                            \\n\\t\\t\\t\\t\\t\\t    <li><a href=\"http://eng.koreabaseball.com/\">ENGLISH</a></li>\\t\\t\\t\\t\\t\\t\\n\\t\\t\\t\\t\\t    </ul>\\n\\t\\t\\t\\t\\t    <div class=\"search-area\">\\n\\t\\t\\t\\t\\t\\t    <div class=\"search-box\">\\n\\t\\t\\t\\t\\t\\t\\t    <input class=\"ipt-search\" type=\"text\" id=\"txtTopPlayerWord\" placeholder=\"선수 검색하기\">\\n\\t\\t\\t\\t\\t\\t\\t    <a href=\"#none;\" id=\"btnTopPlayerSearch\" class=\"btn-search\"><img src=\"//lgcxydabfbch3774324.cdn.ntruss.com/KBO_IMAGE/KBOHome/resources/images/common/btn_search.png\" alt=\"검색\"></a>\\n\\t\\t\\t\\t\\t\\t    </div>\\n\\t\\t\\t\\t\\t\\t    <div id=\"player_search_area\" class=\"search-result\">\\n\\t\\t\\t\\t\\t\\t\\t    <!-- <p class=\"null\">검색 결과가 없습니다.</p> -->\\n\\t\\t\\t\\t\\t\\t\\t    \\n\\t\\t\\t\\t\\t\\t    </div>\\n\\t\\t\\t\\t\\t    </div>\\n\\t\\t\\t\\t    </div>\\n\\t\\t\\t    </div>\\n\\t\\t\\t    <div class=\"wrapping lnb-wrap\">\\n\\t\\t\\t\\t    <h1 class=\"logo\"><a href=\"/Default.aspx\"><img src=\"//lgcxydabfbch3774324.cdn.ntruss.com/KBO_IMAGE/KBOHome/resources/images/common/h1_logo.png\" alt=\"\"></a></h1>\\n\\t\\t\\t\\t    <nav>\\n\\t\\t\\t\\t\\t    <ul id=\"lnb\">\\n\\t\\t\\t\\t\\t\\t    <li>\\n\\t\\t\\t\\t\\t\\t\\t    <a href=\"/Schedule/GameCenter/Main.aspx\">일정/결과</a>\\n\\t\\t\\t\\t\\t\\t\\t    <div class=\"lnb-sub\">\\n\\t\\t\\t\\t\\t\\t\\t\\t    <ul class=\"lnb01\">\\n\\t\\t\\t\\t\\t\\t\\t\\t\\t    <li><a href=\"/Schedule/GameCenter/Main.aspx\">게임센터</a></li>\\n\\t\\t\\t\\t\\t\\t\\t\\t\\t    <li><a href=\"/Schedule/ScoreBoard.aspx\">스코어보드</a></li>\\n                                        \\n                                        <li><a href=\"/Schedule/Schedule.aspx\">경기일정/결과</a></li>\\n                                        \\n\\t\\t\\t\\t\\t\\t\\t\\t\\t    <li><a href=\"/Schedule/Calendar.aspx\">월별일정/결과</a></li>\\n\\t\\t\\t\\t\\t\\t\\t\\t\\t    <li><a href=\"/Schedule/International/Etc/Premier2019.aspx\">국제대회</a></li>\\n                                        <li><a href=\"/Schedule/Allstar/Game/Main2019.aspx\">KBO 올스타전</a></li>\\n                                        <li><a href=\"/Schedule/Weather.aspx\">야구장 날씨</a></li>\\n\\t\\t\\t\\t\\t\\t\\t\\t    </ul>\\n\\t\\t\\t\\t\\t\\t\\t    </div>\\n\\t\\t\\t\\t\\t\\t    </li>\\n\\t\\t\\t\\t\\t\\t    <li>\\n\\t\\t\\t\\t\\t\\t\\t    <a href=\"/TeamRank/TeamRank.aspx\">순위</a>\\n\\t\\t\\t\\t\\t\\t\\t    <div class=\"lnb-sub\">\\n\\t\\t\\t\\t\\t\\t\\t\\t    <ul class=\"lnb02\">\\n\\t\\t\\t\\t\\t\\t\\t\\t\\t    <li><a href=\"/TeamRank/TeamRank.aspx\">팀순위</a></li>\\n\\t\\t\\t                            <li><a href=\"/TeamRank/GraphDaily.aspx\">팀별 순위변동 그래프</a></li>\\n\\t\\t\\t\\t\\t\\t\\t\\t    </ul>\\n\\t\\t\\t\\t\\t\\t\\t    </div>\\n\\t\\t\\t\\t\\t\\t    </li>\\n\\t\\t\\t\\t\\t\\t    <li>\\n\\t\\t\\t\\t\\t\\t\\t    <a href=\"/Record/Main.aspx\">기록</a>\\n\\t\\t\\t\\t\\t\\t\\t    <div class=\"lnb-sub\">\\n\\t\\t\\t\\t\\t\\t\\t\\t    <ul class=\"lnb03\">\\n\\t\\t\\t\\t\\t\\t\\t\\t\\t    <li><a href=\"/Record/Main.aspx\">TOP5</a></li>\\n\\t\\t\\t\\t\\t\\t\\t\\t\\t\\t<li><a href=\"/Record/Ranking/Week.aspx\">주간/월간 랭킹</a></li>\\n\\t\\t\\t\\t\\t\\t\\t\\t\\t    <li><a href=\"/Record/Player/HitterBasic/Basic1.aspx\">기록실</a></li>\\n\\t\\t\\t\\t\\t\\t\\t\\t\\t    <li><a href=\"/Record/Etc/HitVsPit.aspx\">투수 vs 타자</a></li>\\n\\t\\t\\t\\t\\t\\t\\t\\t\\t    <li><a href=\"/Record/History/Top/Hitter.aspx\">역대기록실</a></li>\\n                                        <li><a href=\"/Record/Expectation/WeekList.aspx\">주간/일간 예상 달성기록</a></li>\\n\\t\\t\\t\\t\\t\\t\\t\\t    </ul>\\n\\t\\t\\t\\t\\t\\t\\t    </div>\\n\\t\\t\\t\\t\\t\\t    </li>\\n\\t\\t\\t\\t\\t\\t    <li>\\n\\t\\t\\t\\t\\t\\t\\t    <a href=\"/Player/Search.aspx\">선수</a>\\n\\t\\t\\t\\t\\t\\t\\t    <div class=\"lnb-sub\">\\n\\t\\t\\t\\t\\t\\t\\t\\t    <ul class=\"lnb04\">\\n\\t\\t\\t\\t\\t\\t\\t\\t\\t    <li><a href=\"/Player/Search.aspx\">선수조회</a></li>\\n\\t\\t\\t\\t\\t\\t\\t\\t\\t    <li><a href=\"/Player/Register.aspx\">선수등록현황</a></li>\\n\\t\\t\\t\\t\\t\\t\\t\\t\\t    <li><a href=\"/Player/RegisterAll.aspx\">전체등록현황</a></li>\\n\\t\\t\\t\\t\\t\\t\\t\\t\\t    <li><a href=\"/Player/CareerCertificate.aspx\">경력증명서 신청</a></li>\\n\\t\\t\\t\\t\\t\\t\\t\\t\\t\\t<li><a href=\"/Player/Trade.aspx\">선수이동현황</a></li>\\n\\t\\t\\t\\t\\t\\t\\t\\t    </ul>\\n\\t\\t\\t\\t\\t\\t\\t    </div>\\n\\t\\t\\t\\t\\t\\t    </li>\\t\\t\\t\\t\\t\\t    \\n\\t\\t\\t\\t\\t\\t    <li class=\"\">\\n\\t\\t\\t\\t\\t\\t\\t    <a href=\"/News/BreakingNews/List.aspx\">NEWS</a>\\n\\t\\t\\t\\t\\t\\t\\t    <div class=\"lnb-sub\">\\n\\t\\t\\t\\t\\t\\t\\t\\t    <ul class=\"lnb05\">\\n\\t\\t\\t\\t\\t\\t\\t\\t\\t\\t<li><a href=\"/News/BreakingNews/List.aspx\">NEWS</a></li>\\n\\t\\t\\t\\t\\t\\t\\t\\t\\t\\t<li><a href=\"/News/Notice/List.aspx\">KBO 보도자료</a></li>\\n                                        <li><a href=\"/Futures/KBot/List.aspx\">케이봇(KBOT) 기사</a></li>\\n                                        <li><a href=\"/News/CardNews/List.aspx\">KBO 카드뉴스</a></li>\\n\\t\\t\\t\\t\\t\\t\\t\\t\\t</ul>\\n\\t\\t\\t\\t\\t\\t\\t    </div>\\n\\t\\t\\t\\t\\t\\t    </li>\\n\\t\\t\\t\\t\\t\\t    <li>\\n\\t\\t\\t\\t\\t\\t\\t    <a href=\"javascript:;\">KBO</a>\\n\\t\\t\\t\\t\\t\\t\\t    <div class=\"lnb-sub lnb-style-all\">\\n\\t\\t\\t\\t\\t\\t\\t\\t    <div class=\"wrapping lnb-all-wrap\">\\n\\t\\t\\t\\t\\t\\t\\t\\t\\t    <h3>KBO</h3>\\n\\t\\t\\t\\t\\t\\t\\t\\t\\t    <div class=\"lnb-all kbo01\">\\n\\t\\t\\t\\t\\t\\t\\t\\t\\t\\t    <h4>HISTORY</h4>\\n\\t\\t\\t\\t\\t\\t\\t\\t\\t\\t    <ul>\\n\\t\\t\\t\\t\\t\\t\\t\\t\\t\\t\\t    <li><a href=\"/History/Crowd/GraphTeam.aspx\">관중현황</a></li>\\n\\t\\t\\t\\t\\t\\t\\t\\t\\t\\t\\t    <li><a href=\"/History/Etc/PlayerPrize.aspx\">역대 개인수상</a></li>\\n\\t\\t\\t\\t\\t\\t\\t\\t\\t\\t\\t    <li><a href=\"/History/Etc/GoldenGlove.aspx\">역대 골든글러브</a></li>\\n\\t\\t\\t\\t\\t\\t\\t\\t\\t\\t\\t    <li><a href=\"/History/Etc/GameManage.aspx\">경기운영제도</a></li>\\n\\t\\t\\t\\t\\t\\t\\t\\t\\t\\t\\t    <li><a href=\"/History/Etc/TeamHistory.aspx\">각 구단 변천사</a></li>\\n\\t\\t\\t\\t\\t\\t\\t\\t\\t\\t    </ul>\\n\\t\\t\\t\\t\\t\\t\\t\\t\\t    </div>\\n\\t\\t\\t\\t\\t\\t\\t\\t\\t    <div class=\"lnb-all kbo02\">\\n\\t\\t\\t\\t\\t\\t\\t\\t\\t\\t    <h4>KBO TV</h4>\\n\\t\\t\\t\\t\\t\\t\\t\\t\\t\\t    <ul>\\n\\t\\t\\t\\t\\t\\t\\t\\t\\t\\t\\t    <li><a href=\"/KboTv/Highlight/List.aspx\">하이라이트</a></li>\\n\\t\\t\\t\\t\\t\\t\\t\\t\\t\\t\\t    <li><a href=\"/KboTv/MonthMvp/List.aspx\">월간MVP</a></li>\\n\\t\\t\\t\\t\\t\\t\\t\\t\\t\\t\\t    <li><a href=\"/KboTv/Legend/List.aspx\">레전드 올스타 동영상</a></li>\\n\\t\\t\\t\\t\\t\\t\\t\\t\\t\\t\\t    <li><a href=\"/KboTv/Event/List.aspx\">KBO 공식 영상</a></li>\\n\\t\\t\\t\\t\\t\\t\\t\\t\\t\\t\\t    <li><a href=\"/KboTv/VeteranInterview/List.aspx\">야구 원로 인터뷰</a></li>\\n\\t\\t\\t\\t\\t\\t\\t\\t\\t\\t    </ul>\\n\\t\\t\\t\\t\\t\\t\\t\\t\\t    </div>\\t\\n\\t\\t\\t\\t\\t\\t\\t\\t\\t    <div class=\"lnb-all kbo03\">\\n\\t\\t\\t\\t\\t\\t\\t\\t\\t\\t    <h4>게시판</h4>\\n\\t\\t\\t\\t\\t\\t\\t\\t\\t\\t    <ul>\\n\\t\\t\\t\\t\\t\\t\\t\\t\\t\\t\\t    <li><a href=\"/Board/Notice/List.aspx\">NOTICE</a></li>\\n\\t\\t\\t\\t\\t\\t\\t\\t\\t\\t\\t    <li><a href=\"/Board/Faqs/List.aspx\">자주하는질문</a></li>\\n\\t\\t\\t\\t\\t\\t\\t\\t\\t\\t\\t    \\n\\t\\t\\t\\t\\t\\t\\t\\t\\t\\t\\t    \\n\\t\\t\\t\\t\\t\\t\\t\\t\\t\\t\\t    \\n\\t\\t\\t\\t\\t\\t\\t\\t\\t\\t\\t\\t\\n\\t\\t\\t\\t\\t\\t\\t\\t\\t\\t\\t\\t<li><a href=\"/Board/UnivMarketer/VideoList.aspx\">대학생 마케터</a></li>\\n\\t\\t\\t\\t\\t\\t\\t\\t\\t\\t    </ul>\\n\\t\\t\\t\\t\\t\\t\\t\\t\\t    </div>\\t\\n\\t\\t\\t\\t\\t\\t\\t\\t\\t    <div class=\"lnb-all kbo04\">\\n\\t\\t\\t\\t\\t\\t\\t\\t\\t\\t    <h4>자료실</h4>\\n\\t\\t\\t\\t\\t\\t\\t\\t\\t\\t    <ul>\\n\\t\\t\\t\\t\\t\\t\\t\\t\\t\\t\\t    <li><a href=\"/Reference/Etc/Amazing.aspx\">진기록 명기록</a></li>\\n\\t\\t\\t\\t                                <li><a href=\"/Reference/Ebook/EbookPublication.aspx\">E-BOOK</a></li>\\n\\t\\t\\t\\t                                <li><a href=\"/Reference/OnlineLecture/List.aspx\">초급자용 사이버야구교실</a></li>\\n\\t\\t\\t\\t                                <li><a href=\"/Reference/Etc/GameRule.aspx\">경기규칙</a></li>\\n\\t\\t\\t\\t\\t\\t\\t\\t\\t\\t    </ul>\\n\\t\\t\\t\\t\\t\\t\\t\\t\\t    </div>\\t\\n\\t\\t\\t\\t\\t\\t\\t\\t\\t    <div class=\"lnb-all kbo05\">\\n\\t\\t\\t\\t\\t\\t\\t\\t\\t\\t    <h4>ABOUT KBO</h4>\\n\\t\\t\\t\\t\\t\\t\\t\\t\\t\\t    <ul>\\n\\t\\t\\t\\t\\t\\t\\t\\t\\t\\t\\t    <li><a href=\"/About/Etc/TeamInfo.aspx\">구단 소개</a></li>\\n\\t\\t\\t\\t\\t\\t\\t\\t\\t\\t\\t    <li><a href=\"/About/Group/Activity.aspx\">조직 및 활동</a></li>\\n                                                <li><a href=\"/Event/Etc/OfficialChannel.aspx\">KBO 공식 채널</a></li>\\n\\t\\t\\t\\t\\t\\t\\t\\t\\t\\t\\t    <li><a href=\"/About/Etc/KboCi.aspx\">KBO CI / 캐치프레이즈</a></li>\\n\\t\\t\\t\\t\\t\\t\\t\\t\\t\\t\\t    <li><a href=\"/About/Etc/Map.aspx\">약도 / 관람료</a></li>\\n\\t\\t\\t\\t\\t\\t\\t\\t\\t\\t\\t    <li><a href=\"/About/Committee/OrganizationChart.aspx\">기록위원회</a></li>\\n                                                <li><a href=\"http://www.cleankbo.com/\" target=\"_blank\">클린베이스볼센터</a></li>\\n\\t\\t\\t\\t\\t\\t\\t\\t\\t\\t    </ul>\\n\\t\\t\\t\\t\\t\\t\\t\\t\\t    </div>\\t\\n\\t\\t\\t\\t\\t\\t\\t\\t\\t    <div class=\"lnb-all kbo06\">\\n\\t\\t\\t\\t\\t\\t\\t\\t\\t\\t    <h4>주요 사업/행사</h4>\\n\\t\\t\\t\\t\\t\\t\\t\\t\\t\\t    <ul>\\n\\t\\t\\t\\t\\t\\t\\t\\t\\t\\t\\t    <li><a href=\"/Event/Etc/TimeLine.aspx\">KBO 타임라인</a></li>                                                \\n\\t\\t\\t\\t\\t\\t\\t\\t\\t\\t\\t    <li><a href=\"/Event/Contribution/Service2019.aspx\">KBO 사회공헌</a></li>\\n                                                <li><a href=\"/Event/RecordClass/Professional.aspx\">기록강습회</a></li>\\n\\t\\t\\t\\t\\t\\t\\t\\t\\t\\t\\t    <li><a href=\"/Event/WinterMeeting/WinterMeeting2019.aspx\">KBO 윈터미팅</a></li> <!-- 20180417 KBO 요청 임시삭제 -->\\n\\t\\t\\t\\t\\t\\t\\t\\t\\t\\t\\t    <li><a href=\"/Event/Etc/SafeGuide.aspx\">KBO 경기장 안전정책</a></li>\\n\\t\\t\\t\\t\\t\\t\\t\\t\\t\\t\\t\\t<li><a href=\"/Event/Etc/SaveSacrifice.aspx\">Save &amp; Sacrifice</a></li>\\n\\t\\t\\t\\t\\t\\t\\t\\t\\t\\t\\t\\t\\n\\t\\t\\t\\t\\t\\t\\t\\t\\t\\t    </ul>\\n\\t\\t\\t\\t\\t\\t\\t\\t\\t    </div>\\n\\t\\t\\t\\t\\t\\t\\t\\t    </div>\\n\\t\\t\\t\\t\\t\\t\\t\\t    \\n\\t\\t\\t\\t\\t\\t\\t    </div>\\n\\t\\t\\t\\t\\t\\t    </li>\\n\\t\\t\\t\\t\\t\\t\\t<li class=\"futures\">\\n\\t\\t\\t\\t\\t\\t\\t    <a href=\"/Futures/Main.aspx\">퓨처스리그</a>\\n\\t\\t\\t\\t\\t\\t\\t    \\t\\t\\t\\t\\n\\t\\t\\t\\t\\t\\t    </li>\\n\\t\\t\\t\\t\\t\\t\\t<li id=\"market\" class=\"market\"><a href=\"https://www.kbomarket.com/\" target=\"_blank\">KBO 마켓</a></li>\\n\\t\\t\\t\\t\\t\\t    <li id=\"lnbAll\" class=\"\">\\n\\t\\t\\t\\t\\t\\t\\t    <a href=\"javascript:;\">전체 메뉴</a>\\n\\t\\t\\t\\t\\t\\t\\t    <div class=\"lnb-sub lnb-style-all\">\\n\\t\\t\\t\\t\\t\\t\\t\\t    <div class=\"wrapping lnb-all-wrap\">\\n\\t\\t\\t\\t\\t\\t\\t\\t\\t    <div class=\"line line01\">\\n\\t\\t\\t\\t\\t\\t\\t\\t\\t\\t    <h3>전체 메뉴</h3>\\n\\t\\t\\t\\t\\t\\t\\t\\t\\t\\t    <div class=\"lnb-all menu01\">\\n\\t\\t\\t\\t\\t\\t\\t\\t\\t\\t\\t    <h4>일정/결과</h4>\\n\\t\\t\\t\\t\\t\\t\\t\\t\\t\\t\\t    <ul>\\n\\t\\t\\t\\t\\t\\t\\t\\t\\t\\t\\t\\t    <li><a href=\"/Schedule/GameCenter/Main.aspx\">게임센터</a></li>\\n\\t\\t\\t\\t\\t\\t\\t\\t\\t                <li><a href=\"/Schedule/ScoreBoard.aspx\">스코어보드</a></li>\\n\\t\\t\\t\\t\\t\\t\\t\\t\\t                \\n                                                    <li><a href=\"/Schedule/Schedule.aspx\">경기일정/결과</a></li>\\n                                                    \\n\\t\\t\\t\\t\\t\\t\\t\\t\\t                <li><a href=\"/Schedule/Calendar.aspx\">월별일정/결과</a></li>\\n\\t\\t\\t\\t\\t\\t\\t\\t\\t                <li><a href=\"/Schedule/International/Etc/Premier2019.aspx\">국제대회</a></li>\\n                                                    <li><a href=\"/Schedule/Allstar/Game/Main2019.aspx\">KBO 올스타전</a></li>\\n\\t\\t\\t\\t\\t\\t\\t\\t\\t\\t\\t\\t\\t<li><a href=\"/Schedule/Weather.aspx\">야구장 날씨</a></li>\\n\\t\\t\\t\\t\\t\\t\\t\\t\\t\\t\\t    </ul>\\n\\t\\t\\t\\t\\t\\t\\t\\t\\t\\t    </div>\\n\\t\\t\\t\\t\\t\\t\\t\\t\\t\\t    <div class=\"lnb-all menu02\">\\n\\t\\t\\t\\t\\t\\t\\t\\t\\t\\t\\t    <h4>순위</h4>\\n\\t\\t\\t\\t\\t\\t\\t\\t\\t\\t\\t    <ul>\\n\\t\\t\\t\\t\\t\\t\\t\\t\\t\\t\\t\\t    <li><a href=\"/TeamRank/TeamRank.aspx\">팀순위</a></li>\\n\\t\\t\\t                                        <li><a href=\"/TeamRank/GraphDaily.aspx\">팀별 순위변동 그래프</a></li>\\n\\t\\t\\t\\t\\t\\t\\t\\t\\t\\t\\t    </ul>\\n\\t\\t\\t\\t\\t\\t\\t\\t\\t\\t    </div>\\t\\n\\t\\t\\t\\t\\t\\t\\t\\t\\t\\t    <div class=\"lnb-all menu03\">\\n\\t\\t\\t\\t\\t\\t\\t\\t\\t\\t\\t    <h4>기록</h4>\\n\\t\\t\\t\\t\\t\\t\\t\\t\\t\\t\\t    <ul>\\n\\t\\t\\t\\t\\t\\t\\t\\t\\t\\t\\t\\t    <li><a href=\"/Record/Main.aspx\">TOP5</a></li>\\n\\t\\t\\t\\t\\t\\t\\t\\t\\t\\t\\t\\t\\t<li><a href=\"/Record/Ranking/Week.aspx\">주간/월간 랭킹</a></li>\\n\\t\\t\\t\\t\\t\\t\\t\\t\\t                <li><a href=\"/Record/Player/HitterBasic/Basic1.aspx\">기록실</a></li>\\n\\t\\t\\t\\t\\t\\t\\t\\t\\t                <li><a href=\"/Record/Etc/HitVsPit.aspx\">투수 vs 타자</a></li>\\n\\t\\t\\t\\t\\t\\t\\t\\t\\t                <li><a href=\"/Record/History/Top/Hitter.aspx\">역대기록실</a></li>\\n                                                    <li class=\"menu0305\"><a href=\"/Record/Expectation/WeekList.aspx\">주간/일간 예상 달성기록</a></li>\\n\\t\\t\\t\\t\\t\\t\\t\\t\\t\\t\\t    </ul>\\n\\t\\t\\t\\t\\t\\t\\t\\t\\t\\t    </div>\\t\\n\\t\\t\\t\\t\\t\\t\\t\\t\\t\\t    <div class=\"lnb-all menu04\">\\n\\t\\t\\t\\t\\t\\t\\t\\t\\t\\t\\t    <h4>선수</h4>\\n\\t\\t\\t\\t\\t\\t\\t\\t\\t\\t\\t    <ul>\\n\\t\\t\\t\\t\\t\\t\\t\\t\\t\\t\\t\\t    <li><a href=\"/Player/Search.aspx\">선수조회</a></li>\\n\\t\\t\\t\\t\\t\\t\\t\\t\\t                <li><a href=\"/Player/Register.aspx\">선수등록현황</a></li>\\n\\t\\t\\t\\t\\t\\t\\t\\t\\t                <li><a href=\"/Player/RegisterAll.aspx\">전체등록현황</a></li>\\n\\t\\t\\t\\t\\t\\t\\t\\t\\t                <li><a href=\"/Player/CareerCertificate.aspx\">경력증명서 신청</a></li>\\n\\t\\t\\t\\t\\t\\t\\t\\t\\t\\t\\t\\t\\t<li><a href=\"/Player/Trade.aspx\">선수이동현황</a></li>\\n\\t\\t\\t\\t\\t\\t\\t\\t\\t\\t\\t    </ul>\\n\\t\\t\\t\\t\\t\\t\\t\\t\\t\\t    </div>\\t\\n\\t\\t\\t\\t\\t\\t\\t\\t\\t\\t    <div class=\"lnb-all menu05\">\\n\\t\\t\\t\\t\\t\\t\\t\\t\\t\\t\\t    <h4>퓨처스리그</h4>\\n\\t\\t\\t\\t\\t\\t\\t\\t\\t\\t\\t    <ul>\\n\\t\\t\\t\\t\\t\\t\\t\\t\\t\\t\\t\\t    <li><a href=\"/Futures/Schedule/GameList.aspx\">경기일정/결과</a></li>\\n\\t\\t\\t\\t\\t\\t\\t\\t\\t\\t\\t\\t    <li><a href=\"/Futures/TeamRank/North.aspx\">팀순위</a></li>\\n\\t\\t\\t\\t\\t\\t\\t\\t\\t\\t\\t\\t    <li><a href=\"/Futures/Top/Main.aspx\">TOP5</a></li>\\n\\t\\t\\t\\t\\t\\t\\t\\t\\t\\t\\t\\t    <li><a href=\"/Futures/Player/Hitter.aspx\">기록실</a></li>\\n\\t\\t\\t\\t\\t\\t\\t\\t\\t\\t\\t\\t    <li><a href=\"/Futures/InfoGraphic/List.aspx\">인포그래픽</a></li>\\n                                                    <li><a href=\"/Futures/CardNews/List.aspx?bdSc=18\">퓨처스샷</a></li>\\n                                                    <li><a href=\"/Futures/CardNews/List.aspx?bdSc=19\">퓨처스타그램</a></li>\\n\\t\\t\\t\\t\\t\\t\\t\\t\\t\\t\\t\\t    <li><a href=\"/Futures/Webtoon/List.aspx\">웹툰</a></li>\\t\\t\\n\\t\\t\\t\\t\\t\\t\\t\\t\\t\\t\\t\\t    <li><a href=\"/Futures/Reporter/List.aspx\">퓨처스리그 대학생<br>기자단</a></li>\\t\\t\\t\\t\\t\\t\\t\\t\\t\\t\\t\\t\\t\\n\\t\\t\\t\\t\\t\\t\\t\\t\\t\\t\\t    </ul>\\n\\t\\t\\t\\t\\t\\t\\t\\t\\t\\t    </div>\\t\\n\\t\\t\\t\\t\\t\\t\\t\\t\\t\\t    <div class=\"lnb-all menu06\">\\n\\t\\t\\t\\t\\t\\t\\t\\t\\t\\t\\t    <h4>NEWS</h4>\\n\\t\\t\\t\\t\\t\\t\\t\\t\\t\\t\\t    <ul>\\n\\t\\t\\t\\t\\t\\t\\t\\t\\t\\t\\t\\t    <li><a href=\"/News/BreakingNews/List.aspx\">NEWS</a></li>\\n\\t\\t\\t\\t\\t\\t\\t\\t\\t\\t            <li><a href=\"/News/Notice/List.aspx\">KBO 보도자료</a></li>\\n                                                    <li><a href=\"/Futures/KBot/List.aspx\">케이봇(KBOT) 기사</a></li>\\n                                                    <li><a href=\"/News/CardNews/List.aspx\">KBO 카드뉴스</a></li>\\n\\t\\t\\t\\t\\t\\t\\t\\t\\t\\t            \\n\\t\\t\\t\\t\\t\\t\\t\\t\\t\\t\\t    </ul>\\n\\t\\t\\t\\t\\t\\t\\t\\t\\t\\t    </div>\\n\\t\\t\\t\\t\\t\\t\\t\\t\\t    </div>\\n\\t\\t\\t\\t\\t\\t\\t\\t\\t    <div class=\"line line02\">\\n\\t\\t\\t\\t\\t\\t\\t\\t\\t\\t    <h3>KBO</h3>\\n\\t\\t\\t\\t\\t\\t\\t\\t\\t\\t    <div class=\"lnb-all menu07\">\\n\\t\\t\\t\\t\\t\\t\\t\\t\\t\\t\\t    <h4>HISTORY</h4>\\n\\t\\t\\t\\t\\t\\t\\t\\t\\t\\t\\t    <ul>\\n                                                    <li><a href=\"/History/Crowd/GraphTeam.aspx\">관중현황</a></li>\\n\\t\\t\\t\\t\\t\\t\\t\\t\\t\\t\\t        <li><a href=\"/History/Etc/PlayerPrize.aspx\">역대 개인수상</a></li>\\n\\t\\t\\t\\t\\t\\t\\t\\t\\t\\t\\t        <li><a href=\"/History/Etc/GoldenGlove.aspx\">역대 골든글러브</a></li>\\n\\t\\t\\t\\t\\t\\t\\t\\t\\t\\t\\t        <li><a href=\"/History/Etc/GameManage.aspx\">경기운영제도</a></li>\\n\\t\\t\\t\\t\\t\\t\\t\\t\\t\\t\\t        <li><a href=\"/History/Etc/TeamHistory.aspx\">각 구단 변천사</a></li>\\n\\t\\t\\t\\t\\t\\t\\t\\t\\t\\t\\t    </ul>\\n\\t\\t\\t\\t\\t\\t\\t\\t\\t\\t    </div>\\n\\t\\t\\t\\t\\t\\t\\t\\t\\t\\t    <div class=\"lnb-all menu08\">\\n\\t\\t\\t\\t\\t\\t\\t\\t\\t\\t\\t    <h4>KBO TV</h4>\\n\\t\\t\\t\\t\\t\\t\\t\\t\\t\\t\\t    <ul>\\n\\t\\t\\t\\t\\t\\t\\t\\t\\t\\t\\t\\t    <li><a href=\"/KboTv/Highlight/List.aspx\">하이라이트</a></li>\\n\\t\\t\\t\\t\\t\\t\\t\\t\\t\\t\\t        <li><a href=\"/KboTv/MonthMvp/List.aspx\">월간MVP</a></li>\\n\\t\\t\\t\\t\\t\\t\\t\\t\\t\\t\\t        <li><a href=\"/KboTv/Legend/List.aspx\">레전드 올스타 동영상</a></li>\\n\\t\\t\\t\\t\\t\\t\\t\\t\\t\\t\\t        <li><a href=\"/KboTv/Event/List.aspx\">KBO 공식 영상</a></li>\\n\\t\\t\\t\\t\\t\\t\\t\\t\\t\\t\\t        <li><a href=\"/KboTv/VeteranInterview/List.aspx\">야구 원로 인터뷰</a></li>\\n\\t\\t\\t\\t\\t\\t\\t\\t\\t\\t\\t    </ul>\\n\\t\\t\\t\\t\\t\\t\\t\\t\\t\\t    </div>\\t\\n\\t\\t\\t\\t\\t\\t\\t\\t\\t\\t    <div class=\"lnb-all menu09\">\\n\\t\\t\\t\\t\\t\\t\\t\\t\\t\\t\\t    <h4>게시판</h4>\\n\\t\\t\\t\\t\\t\\t\\t\\t\\t\\t\\t    <ul>\\n\\t\\t\\t\\t\\t\\t\\t\\t\\t\\t\\t\\t    <li><a href=\"/Board/Notice/List.aspx\">NOTICE</a></li>\\n\\t\\t\\t\\t\\t\\t\\t\\t\\t\\t\\t        <li><a href=\"/Board/Faqs/List.aspx\">자주하는질문</a></li>\\n\\t\\t\\t\\t\\t\\t\\t\\t\\t\\t\\t       \\n\\t\\t\\t\\t\\t\\t\\t\\t\\t\\t\\t        \\n\\t\\t\\t\\t\\t\\t\\t\\t\\t\\t\\t        \\n\\t\\t\\t\\t\\t\\t\\t\\t\\t\\t\\t\\t\\t\\n\\t\\t\\t\\t\\t\\t\\t\\t\\t\\t\\t\\t\\t<li><a href=\"/Board/UnivMarketer/VideoList.aspx\">대학생 마케터</a></li>\\n\\t\\t\\t\\t\\t\\t\\t\\t\\t\\t\\t    </ul>\\n\\t\\t\\t\\t\\t\\t\\t\\t\\t\\t    </div>\\t\\n\\t\\t\\t\\t\\t\\t\\t\\t\\t\\t    <div class=\"lnb-all menu10 \">\\n\\t\\t\\t\\t\\t\\t\\t\\t\\t\\t\\t    <h4>자료실</h4>\\n\\t\\t\\t\\t\\t\\t\\t\\t\\t\\t\\t    <ul>\\n\\t\\t\\t\\t\\t\\t\\t\\t\\t\\t\\t\\t    <li><a href=\"/Reference/Etc/Amazing.aspx\">진기록 명기록</a></li>\\n\\t\\t\\t\\t                                    <li><a href=\"/Reference/Ebook/EbookPublication.aspx\">E-BOOK</a></li>\\n\\t\\t\\t\\t                                    <li><a href=\"/Reference/OnlineLecture/List.aspx\">초급자용 사이버야구교실</a></li>\\n\\t\\t\\t\\t                                    <li><a href=\"/Reference/Etc/GameRule.aspx\">경기규칙</a></li>\\n\\t\\t\\t\\t\\t\\t\\t\\t\\t\\t\\t    </ul>\\n\\t\\t\\t\\t\\t\\t\\t\\t\\t\\t    </div>\\t\\n\\t\\t\\t\\t\\t\\t\\t\\t\\t\\t    <div class=\"lnb-all menu11\">\\n\\t\\t\\t\\t\\t\\t\\t\\t\\t\\t\\t    <h4>ABOUT KBO</h4>\\n\\t\\t\\t\\t\\t\\t\\t\\t\\t\\t\\t    <ul>\\n\\t\\t\\t\\t\\t\\t\\t\\t\\t\\t\\t\\t    <li><a href=\"/About/Etc/TeamInfo.aspx\">구단 소개</a></li>\\n\\t\\t\\t\\t\\t\\t\\t\\t\\t\\t\\t        <li><a href=\"/About/Group/Activity.aspx\">조직 및 활동</a></li>\\n                                                    <li><a href=\"/Event/Etc/OfficialChannel.aspx\">KBO 공식 채널</a></li>\\n\\t\\t\\t\\t\\t\\t\\t\\t\\t\\t\\t        <li><a href=\"/About/Etc/KboCi.aspx\">KBO CI / 캐치프레이즈</a></li>\\n\\t\\t\\t\\t\\t\\t\\t\\t\\t\\t\\t        <li><a href=\"/About/Etc/Map.aspx\">약도 / 관람료</a></li>\\n\\t\\t\\t\\t\\t\\t\\t\\t\\t\\t\\t        <li><a href=\"/About/Committee/OrganizationChart.aspx\">기록위원회</a></li>\\n                                                    <li><a href=\"http://www.cleankbo.com/\" target=\"_blank\">클린베이스볼센터</a></li>\\n\\t\\t\\t\\t\\t\\t\\t\\t\\t\\t\\t    </ul>\\n\\t\\t\\t\\t\\t\\t\\t\\t\\t\\t    </div>\\t\\n\\t\\t\\t\\t\\t\\t\\t\\t\\t\\t    <div class=\"lnb-all menu12\">\\n\\t\\t\\t\\t\\t\\t\\t\\t\\t\\t\\t    <h4>주요 사업/행사</h4>\\n\\t\\t\\t\\t\\t\\t\\t\\t\\t\\t\\t    <ul>\\n\\t\\t\\t\\t\\t\\t\\t\\t\\t\\t\\t\\t    <li><a href=\"/Event/Etc/TimeLine.aspx\">KBO 타임라인</a></li>                                                    \\n\\t\\t\\t\\t\\t\\t\\t\\t\\t\\t\\t        <li><a href=\"/Event/Contribution/Service2019.aspx\">KBO 사회공헌</a></li>\\n                                                    <li><a href=\"/Event/RecordClass/Professional.aspx\">기록강습회</a></li>\\n\\t\\t\\t\\t\\t\\t\\t\\t\\t\\t\\t         <li><a href=\"/Event/WinterMeeting/WinterMeeting2019.aspx\">KBO 윈터미팅</a></li>  <!-- 20180417 KBO 요청 임시삭제 -->\\n\\t\\t\\t\\t\\t\\t\\t\\t\\t\\t\\t        <li><a href=\"/Event/Etc/SafeGuide.aspx\">KBO 경기장 안전정책</a></li>\\n\\t\\t\\t\\t\\t\\t\\t\\t\\t\\t\\t\\t\\t<li><a href=\"/Event/Etc/SaveSacrifice.aspx\">Save &amp; Sacrifice</a></li>\\n\\t\\t\\t\\t\\t\\t\\t\\t\\t\\t\\t\\t\\t\\n\\t\\t\\t\\t\\t\\t\\t\\t\\t\\t\\t    </ul>\\n\\t\\t\\t\\t\\t\\t\\t\\t\\t\\t    </div>\\n\\t\\t\\t\\t\\t\\t\\t\\t\\t    </div>\\n\\t\\t\\t\\t\\t\\t\\t\\t    </div>\\n\\t\\t\\t\\t\\t\\t\\t\\t    <div class=\"btn-close\">\\n\\t\\t\\t\\t\\t\\t\\t\\t\\t    <a href=\"javascript:;\">\\n\\t\\t\\t\\t\\t\\t\\t\\t\\t\\t    <img src=\"//lgcxydabfbch3774324.cdn.ntruss.com/KBO_IMAGE/KBOHome/resources/images/common/btn_close_fff.png\" alt=\"\">\\n\\t\\t\\t\\t\\t\\t\\t\\t\\t\\t    <span>닫기</span>\\n\\t\\t\\t\\t\\t\\t\\t\\t\\t    </a>\\t\\t\\t\\t\\t\\t\\t\\t\\t\\n\\t\\t\\t\\t\\t\\t\\t\\t    </div>\\n\\t\\t\\t\\t\\t\\t\\t    </div>\\n\\t\\t\\t\\t\\t\\t    </li>\\n\\t\\t\\t\\t\\t    </ul>\\n\\t\\t\\t\\t    </nav>\\n\\t\\t\\t    </div>\\n\\t\\t    </header>\\n\\t\\t    <!-- // header -->\\n\\t\\t    <hr>\\n\\t\\t    <!-- container -->\\n\\t\\t    \\n    \\n<section id=\"container\">\\n\\t<div class=\"wrapping container-wrap\">\\t\\t\\t\\n\\t\\t<aside>\\n\\t\\t\\t<h3>선수</h3>\\n\\t\\t\\t<ul id=\"snb\">\\n\\t\\t\\t\\t<li class=\"on\"><a href=\"/Player/Search.aspx\" id=\"lnb01\">선수조회</a></li>\\n\\t\\t\\t    <li><a href=\"/Player/Register.aspx\" id=\"lnb02\">선수등록현황</a></li>\\n                <li><a href=\"/Player/RegisterAll.aspx\" id=\"lnb03\">전체등록현황</a></li>\\n                <li><a href=\"/Player/CareerCertificate.aspx\" id=\"lnb04\">경력증명서 신청</a></li>\\n\\t\\t\\t\\t<li><a href=\"/Player/Trade.aspx\" id=\"lnb05\">선수이동현황</a></li>\\n\\t\\t\\t</ul>\\n\\t\\t\\t\\n\\t\\t</aside>\\n        <script type=\"text/javascript\">\\n//<![CDATA[\\nSys.WebForms.PageRequestManager._initialize(\\'ctl00$ctl00$ctl00$cphContents$cphContents$ScriptManager1\\', \\'mainForm\\', [\\'tctl00$ctl00$ctl00$cphContents$cphContents$cphContents$udpRecord\\',\\'cphContents_cphContents_cphContents_udpRecord\\'], [\\'ctl00$ctl00$ctl00$cphContents$cphContents$cphContents$ddlTeam\\',\\'cphContents_cphContents_cphContents_ddlTeam\\',\\'ctl00$ctl00$ctl00$cphContents$cphContents$cphContents$ddlPosition\\',\\'cphContents_cphContents_cphContents_ddlPosition\\',\\'ctl00$ctl00$ctl00$cphContents$cphContents$cphContents$btnSearch\\',\\'cphContents_cphContents_cphContents_btnSearch\\'], [], 90, \\'ctl00$ctl00$ctl00\\');\\n//]]>\\n</script>\\n\\n\\t\\t\\n<input type=\"hidden\" name=\"ctl00$ctl00$ctl00$cphContents$cphContents$cphContents$hfPage\" id=\"cphContents_cphContents_cphContents_hfPage\" value=\"1\">\\n\\n<div id=\"contents\" class=\"content01\">\\n\\t<!--sub title & location -->\\n\\t<div class=\"location\">\\n\\t\\t<span class=\"home\"><a href=\"/Default.aspx\"><img src=\"//lgcxydabfbch3774324.cdn.ntruss.com/KBO_IMAGE/KBOHome/resources/images/common/ico_home.gif\" alt=\"홈으로\"></a></span> &gt;\\n\\t\\t<span class=\"depth1\"><a href=\"/Player/Search.aspx\">선수</a></span> &gt;\\n\\t\\t<span class=\"depth2\">선수조회</span>\\n\\t</div>\\n\\t<h4 class=\"tit-page\">선수조회</h4>\\n\\t<!-- // sub title & location -->\\n\\t\\n\\t<div class=\"sub-content\">    \\n\\t\\t<div id=\"cphContents_cphContents_cphContents_udpRecord\">\\n\\t\\t\\t<div class=\"compare\">\\n\\t\\t\\t\\t<div class=\"styled-select03 mt5 bar01\">\\n\\t\\t\\t\\t\\t<select name=\"ctl00$ctl00$ctl00$cphContents$cphContents$cphContents$ddlTeam\" onchange=\"javascript:setTimeout(\\'__doPostBack(\\\\\\'ctl00$ctl00$ctl00$cphContents$cphContents$cphContents$ddlTeam\\\\\\',\\\\\\'\\\\\\')\\', 0)\" id=\"cphContents_cphContents_cphContents_ddlTeam\" class=\"select02\">\\n\\t<option value=\"\">팀 선택</option>\\n\\t<option value=\"NC\">NC</option>\\n\\t<option value=\"WO\">키움</option>\\n\\t<option value=\"LG\">LG</option>\\n\\t<option selected=\"selected\" value=\"OB\">두산</option>\\n\\t<option value=\"KT\">KT</option>\\n\\t<option value=\"HT\">KIA</option>\\n\\t<option value=\"LT\">롯데</option>\\n\\t<option value=\"SS\">삼성</option>\\n\\t<option value=\"SK\">SK</option>\\n\\t<option value=\"HH\">한화</option>\\n\\n</select>\\n\\t\\t\\t\\t</div>\\n\\t\\t\\t\\t<div class=\"styled-select03 mt5\">\\n\\t\\t\\t\\t\\t<select name=\"ctl00$ctl00$ctl00$cphContents$cphContents$cphContents$ddlPosition\" onchange=\"javascript:setTimeout(\\'__doPostBack(\\\\\\'ctl00$ctl00$ctl00$cphContents$cphContents$cphContents$ddlPosition\\\\\\',\\\\\\'\\\\\\')\\', 0)\" id=\"cphContents_cphContents_cphContents_ddlPosition\" class=\"select02\">\\n\\t<option selected=\"selected\" value=\"\">포지션 선택</option>\\n\\t<option value=\"1\">투수</option>\\n\\t<option value=\"2\">포수</option>\\n\\t<option value=\"3,4,5,6\">내야수</option>\\n\\t<option value=\"7,8,9\">외야수</option>\\n\\n</select>\\n\\t\\t\\t\\t</div>\\n\\t\\t\\t\\t<span class=\"\"><input name=\"ctl00$ctl00$ctl00$cphContents$cphContents$cphContents$txtSearchPlayerName\" type=\"text\" id=\"cphContents_cphContents_cphContents_txtSearchPlayerName\" class=\"srch_all\" onkeypress=\"if(event.keyCode == 13){__doPostBack(\\'ctl00$ctl00$ctl00$cphContents$cphContents$cphContents$btnSearch\\',\\'\\');return false;}\"></span>\\n\\t\\t\\t\\t<input type=\"submit\" name=\"ctl00$ctl00$ctl00$cphContents$cphContents$cphContents$btnSearch\" value=\"검색\" id=\"cphContents_cphContents_cphContents_btnSearch\" class=\"btn_srch02\">\\n\\t\\t\\t</div>\\n\\n\\t\\t\\t<div class=\"inquiry\">\\n\\t\\t\\t\\t<p class=\"title\"><strong>검색결과 : <span class=\"point\">94</span>건</strong></p>\\n\\t\\t\\t\\t<table class=\"tEx\" cellpadding=\"0\" cellspacing=\"0\" summary=\"경기내용인 2루타,3루타,홈런,도루를 확인 하실 수 있습니다\">\\n\\t\\t\\t\\t\\t<caption>경기내용</caption>\\n\\t\\t\\t\\t\\t<colgroup>\\n\\t\\t\\t\\t\\t\\t<col width=\"65\">\\n\\t\\t\\t\\t\\t\\t<col width=\"70\">\\n\\t\\t\\t\\t\\t\\t<col width=\"60\">\\n\\t\\t\\t\\t\\t\\t<col width=\"60\">\\n\\t\\t\\t\\t\\t\\t<col width=\"130\">\\n\\t\\t\\t\\t\\t\\t<col width=\"120\">\\n\\t\\t\\t\\t\\t\\t<col width=\"*\">\\n\\t\\t\\t\\t\\t</colgroup>\\n\\t\\t\\t\\t\\t<thead>\\n\\t\\t\\t\\t\\t\\t<tr>\\n\\t\\t\\t\\t\\t\\t\\t<th>등번호</th>\\n\\t\\t\\t\\t\\t\\t\\t<th>선수명</th>\\n\\t\\t\\t\\t\\t\\t\\t<th>팀명</th>\\n\\t\\t\\t\\t\\t\\t\\t<th>포지션</th>\\n\\t\\t\\t\\t\\t\\t\\t<th>생년월일</th>\\n\\t\\t\\t\\t\\t\\t\\t<th>체격</th>\\n\\t\\t\\t\\t\\t\\t\\t<th>출신교</th>\\n\\t\\t\\t\\t\\t\\t</tr>\\n\\t\\t\\t\\t\\t</thead>\\n\\t\\t\\t\\t\\t<tbody>\\n\\t\\t\\t\\t\\t\\t\\n\\t\\t\\t\\t\\t\\t\\t<tr>\\n\\t\\t\\t\\t\\t\\t\\t\\t<td>41</td>\\n\\t\\t\\t\\t\\t\\t\\t\\t<td><a href=\"/Record/Player/PitcherDetail/Basic.aspx?playerId=65241\">채지선</a></td>\\n\\t\\t\\t\\t\\t\\t\\t\\t<td>두산</td>\\n\\t\\t\\t\\t\\t\\t\\t\\t<td>투수</td>\\n\\t\\t\\t\\t\\t\\t\\t\\t<td>1995-07-11</td>\\n\\t\\t\\t\\t\\t\\t\\t\\t<td>180cm, 70kg</td>\\n\\t\\t\\t\\t\\t\\t\\t\\t<td>학강초-광주동성중-광주제일고</td>\\n\\t\\t\\t\\t\\t\\t\\t</tr>\\n\\t\\t\\t\\t\\t\\t\\n\\t\\t\\t\\t\\t\\t\\t<tr>\\n\\t\\t\\t\\t\\t\\t\\t\\t<td>98</td>\\n\\t\\t\\t\\t\\t\\t\\t\\t<td><a href=\"/Record/Player/PitcherDetail/Basic.aspx?playerId=50298\">최세창</a></td>\\n\\t\\t\\t\\t\\t\\t\\t\\t<td>두산</td>\\n\\t\\t\\t\\t\\t\\t\\t\\t<td>투수</td>\\n\\t\\t\\t\\t\\t\\t\\t\\t<td>2001-06-01</td>\\n\\t\\t\\t\\t\\t\\t\\t\\t<td>187cm, 95kg</td>\\n\\t\\t\\t\\t\\t\\t\\t\\t<td>부산예원초-사직중-개성고</td>\\n\\t\\t\\t\\t\\t\\t\\t</tr>\\n\\t\\t\\t\\t\\t\\t\\n\\t\\t\\t\\t\\t\\t\\t<tr>\\n\\t\\t\\t\\t\\t\\t\\t\\t<td>12</td>\\n\\t\\t\\t\\t\\t\\t\\t\\t<td><a href=\"/Record/Player/HitterDetail/Basic.aspx?playerId=64213\">최용제</a></td>\\n\\t\\t\\t\\t\\t\\t\\t\\t<td>두산</td>\\n\\t\\t\\t\\t\\t\\t\\t\\t<td>포수</td>\\n\\t\\t\\t\\t\\t\\t\\t\\t<td>1991-07-12</td>\\n\\t\\t\\t\\t\\t\\t\\t\\t<td>182cm, 90kg</td>\\n\\t\\t\\t\\t\\t\\t\\t\\t<td>서울도곡초-서울이수중-진흥고-홍익대-두산-상무</td>\\n\\t\\t\\t\\t\\t\\t\\t</tr>\\n\\t\\t\\t\\t\\t\\t\\n\\t\\t\\t\\t\\t\\t\\t<tr>\\n\\t\\t\\t\\t\\t\\t\\t\\t<td>61</td>\\n\\t\\t\\t\\t\\t\\t\\t\\t<td><a href=\"/Record/Player/PitcherDetail/Basic.aspx?playerId=67263\">최원준</a></td>\\n\\t\\t\\t\\t\\t\\t\\t\\t<td>두산</td>\\n\\t\\t\\t\\t\\t\\t\\t\\t<td>투수</td>\\n\\t\\t\\t\\t\\t\\t\\t\\t<td>1994-12-21</td>\\n\\t\\t\\t\\t\\t\\t\\t\\t<td>182cm, 91kg</td>\\n\\t\\t\\t\\t\\t\\t\\t\\t<td>수유초-신일중-신일고-동국대</td>\\n\\t\\t\\t\\t\\t\\t\\t</tr>\\n\\t\\t\\t\\t\\t\\t\\n\\t\\t\\t\\t\\t\\t\\t<tr>\\n\\t\\t\\t\\t\\t\\t\\t\\t<td>106</td>\\n\\t\\t\\t\\t\\t\\t\\t\\t<td><a href=\"/Futures/Player/PitcherDetail.aspx?playerId=50206\">최종인</a></td>\\n\\t\\t\\t\\t\\t\\t\\t\\t<td>두산</td>\\n\\t\\t\\t\\t\\t\\t\\t\\t<td>투수</td>\\n\\t\\t\\t\\t\\t\\t\\t\\t<td>2001-05-01</td>\\n\\t\\t\\t\\t\\t\\t\\t\\t<td>185cm, 84kg</td>\\n\\t\\t\\t\\t\\t\\t\\t\\t<td>해강초-센텀중-부산고</td>\\n\\t\\t\\t\\t\\t\\t\\t</tr>\\n\\t\\t\\t\\t\\t\\t\\n\\t\\t\\t\\t\\t\\t\\t<tr>\\n\\t\\t\\t\\t\\t\\t\\t\\t<td>53</td>\\n\\t\\t\\t\\t\\t\\t\\t\\t<td><a href=\"/Record/Player/HitterDetail/Basic.aspx?playerId=76267\">최주환</a></td>\\n\\t\\t\\t\\t\\t\\t\\t\\t<td>두산</td>\\n\\t\\t\\t\\t\\t\\t\\t\\t<td>내야수</td>\\n\\t\\t\\t\\t\\t\\t\\t\\t<td>1988-02-28</td>\\n\\t\\t\\t\\t\\t\\t\\t\\t<td>178cm, 73kg</td>\\n\\t\\t\\t\\t\\t\\t\\t\\t<td>학강초-광주동성중-광주동성고-두산-상무</td>\\n\\t\\t\\t\\t\\t\\t\\t</tr>\\n\\t\\t\\t\\t\\t\\t\\n\\t\\t\\t\\t\\t\\t\\t<tr>\\n\\t\\t\\t\\t\\t\\t\\t\\t<td>97</td>\\n\\t\\t\\t\\t\\t\\t\\t\\t<td><a href=\"/Futures/Player/HitterDetail.aspx?playerId=69214\">최지원</a></td>\\n\\t\\t\\t\\t\\t\\t\\t\\t<td>두산</td>\\n\\t\\t\\t\\t\\t\\t\\t\\t<td>외야수</td>\\n\\t\\t\\t\\t\\t\\t\\t\\t<td>1998-04-29</td>\\n\\t\\t\\t\\t\\t\\t\\t\\t<td>180cm, 104kg</td>\\n\\t\\t\\t\\t\\t\\t\\t\\t<td>권선초(수원권선구리틀)-수원북중-유신고-인천재능대</td>\\n\\t\\t\\t\\t\\t\\t\\t</tr>\\n\\t\\t\\t\\t\\t\\t\\n\\t\\t\\t\\t\\t\\t\\t<tr>\\n\\t\\t\\t\\t\\t\\t\\t\\t<td>64</td>\\n\\t\\t\\t\\t\\t\\t\\t\\t<td><a href=\"/Futures/Player/PitcherDetail.aspx?playerId=69212\">추종민</a></td>\\n\\t\\t\\t\\t\\t\\t\\t\\t<td>두산</td>\\n\\t\\t\\t\\t\\t\\t\\t\\t<td>투수</td>\\n\\t\\t\\t\\t\\t\\t\\t\\t<td>2000-10-27</td>\\n\\t\\t\\t\\t\\t\\t\\t\\t<td>185cm, 80kg</td>\\n\\t\\t\\t\\t\\t\\t\\t\\t<td>백양초(고양덕양리틀)-군산남중-군산상고</td>\\n\\t\\t\\t\\t\\t\\t\\t</tr>\\n\\t\\t\\t\\t\\t\\t\\n\\t\\t\\t\\t\\t\\t\\t<tr>\\n\\t\\t\\t\\t\\t\\t\\t\\t<td>9</td>\\n\\t\\t\\t\\t\\t\\t\\t\\t<td><a href=\"/Record/Player/HitterDetail/Basic.aspx?playerId=69209\">페르난데스</a></td>\\n\\t\\t\\t\\t\\t\\t\\t\\t<td>두산</td>\\n\\t\\t\\t\\t\\t\\t\\t\\t<td>내야수</td>\\n\\t\\t\\t\\t\\t\\t\\t\\t<td>1988-04-27</td>\\n\\t\\t\\t\\t\\t\\t\\t\\t<td>178cm, 83kg</td>\\n\\t\\t\\t\\t\\t\\t\\t\\t<td>쿠바</td>\\n\\t\\t\\t\\t\\t\\t\\t</tr>\\n\\t\\t\\t\\t\\t\\t\\n\\t\\t\\t\\t\\t\\t\\t<tr>\\n\\t\\t\\t\\t\\t\\t\\t\\t<td>34</td>\\n\\t\\t\\t\\t\\t\\t\\t\\t<td><a href=\"/Record/Player/PitcherDetail/Basic.aspx?playerId=50234\">플렉센</a></td>\\n\\t\\t\\t\\t\\t\\t\\t\\t<td>두산</td>\\n\\t\\t\\t\\t\\t\\t\\t\\t<td>투수</td>\\n\\t\\t\\t\\t\\t\\t\\t\\t<td>1994-07-01</td>\\n\\t\\t\\t\\t\\t\\t\\t\\t<td>191cm, 113kg</td>\\n\\t\\t\\t\\t\\t\\t\\t\\t<td></td>\\n\\t\\t\\t\\t\\t\\t\\t</tr>\\n\\t\\t\\t\\t\\t\\t\\n\\t\\t\\t\\t\\t\\t\\t<tr>\\n\\t\\t\\t\\t\\t\\t\\t\\t<td>99</td>\\n\\t\\t\\t\\t\\t\\t\\t\\t<td><a href=\"/Futures/Player/PitcherDetail.aspx?playerId=64255\">한주성</a></td>\\n\\t\\t\\t\\t\\t\\t\\t\\t<td>두산</td>\\n\\t\\t\\t\\t\\t\\t\\t\\t<td>투수</td>\\n\\t\\t\\t\\t\\t\\t\\t\\t<td>1995-02-26</td>\\n\\t\\t\\t\\t\\t\\t\\t\\t<td>184cm, 90kg</td>\\n\\t\\t\\t\\t\\t\\t\\t\\t<td>영랑초-자양중-덕수고</td>\\n\\t\\t\\t\\t\\t\\t\\t</tr>\\n\\t\\t\\t\\t\\t\\t\\n\\t\\t\\t\\t\\t\\t\\t<tr>\\n\\t\\t\\t\\t\\t\\t\\t\\t<td>1</td>\\n\\t\\t\\t\\t\\t\\t\\t\\t<td><a href=\"/Record/Player/PitcherDetail/Basic.aspx?playerId=63248\">함덕주</a></td>\\n\\t\\t\\t\\t\\t\\t\\t\\t<td>두산</td>\\n\\t\\t\\t\\t\\t\\t\\t\\t<td>투수</td>\\n\\t\\t\\t\\t\\t\\t\\t\\t<td>1995-01-13</td>\\n\\t\\t\\t\\t\\t\\t\\t\\t<td>181cm, 78kg</td>\\n\\t\\t\\t\\t\\t\\t\\t\\t<td>일산초-원주중-원주고</td>\\n\\t\\t\\t\\t\\t\\t\\t</tr>\\n\\t\\t\\t\\t\\t\\t\\n\\t\\t\\t\\t\\t\\t\\t<tr>\\n\\t\\t\\t\\t\\t\\t\\t\\t<td>13</td>\\n\\t\\t\\t\\t\\t\\t\\t\\t<td><a href=\"/Record/Player/HitterDetail/Basic.aspx?playerId=79240\">허경민</a></td>\\n\\t\\t\\t\\t\\t\\t\\t\\t<td>두산</td>\\n\\t\\t\\t\\t\\t\\t\\t\\t<td>내야수</td>\\n\\t\\t\\t\\t\\t\\t\\t\\t<td>1990-08-26</td>\\n\\t\\t\\t\\t\\t\\t\\t\\t<td>176cm, 69kg</td>\\n\\t\\t\\t\\t\\t\\t\\t\\t<td>송정동초-충장중-광주제일고-두산-경찰</td>\\n\\t\\t\\t\\t\\t\\t\\t</tr>\\n\\t\\t\\t\\t\\t\\t\\n\\t\\t\\t\\t\\t\\t\\t<tr>\\n\\t\\t\\t\\t\\t\\t\\t\\t<td>17</td>\\n\\t\\t\\t\\t\\t\\t\\t\\t<td><a href=\"/Record/Player/PitcherDetail/Basic.aspx?playerId=61643\">홍건희</a></td>\\n\\t\\t\\t\\t\\t\\t\\t\\t<td>두산</td>\\n\\t\\t\\t\\t\\t\\t\\t\\t<td>투수</td>\\n\\t\\t\\t\\t\\t\\t\\t\\t<td>1992-09-29</td>\\n\\t\\t\\t\\t\\t\\t\\t\\t<td>187cm, 92kg</td>\\n\\t\\t\\t\\t\\t\\t\\t\\t<td>화순초-화순중-화순고-KIA-상무-KIA</td>\\n\\t\\t\\t\\t\\t\\t\\t</tr>\\n\\t\\t\\t\\t\\t\\t\\n\\t\\t\\t\\t\\t</tbody>\\n\\t\\t\\t\\t</table>\\n\\n\\t\\t\\t\\t\\n<div class=\"paging\">    \\n\\t<a id=\"cphContents_cphContents_cphContents_ucPager_btnFirst\" title=\"첫 페이지로 이동\" href=\"javascript:__doPostBack(\\'ctl00$ctl00$ctl00$cphContents$cphContents$cphContents$ucPager$btnFirst\\',\\'\\')\"><img src=\"//lgcxydabfbch3774324.cdn.ntruss.com/KBO_IMAGE/KBOHome/resources/images/common/btn_paging_first.gif\" alt=\"처음으로\"></a>\\n\\t\\n\\t<a id=\"cphContents_cphContents_cphContents_ucPager_btnNo1\" href=\"javascript:__doPostBack(\\'ctl00$ctl00$ctl00$cphContents$cphContents$cphContents$ucPager$btnNo1\\',\\'\\')\">1</a>\\n\\t<a id=\"cphContents_cphContents_cphContents_ucPager_btnNo2\" href=\"javascript:__doPostBack(\\'ctl00$ctl00$ctl00$cphContents$cphContents$cphContents$ucPager$btnNo2\\',\\'\\')\">2</a>\\n\\t<a id=\"cphContents_cphContents_cphContents_ucPager_btnNo3\" href=\"javascript:__doPostBack(\\'ctl00$ctl00$ctl00$cphContents$cphContents$cphContents$ucPager$btnNo3\\',\\'\\')\">3</a>\\n\\t<a id=\"cphContents_cphContents_cphContents_ucPager_btnNo4\" href=\"javascript:__doPostBack(\\'ctl00$ctl00$ctl00$cphContents$cphContents$cphContents$ucPager$btnNo4\\',\\'\\')\">4</a>\\n\\t<a id=\"cphContents_cphContents_cphContents_ucPager_btnNo5\" class=\"on\" href=\"javascript:__doPostBack(\\'ctl00$ctl00$ctl00$cphContents$cphContents$cphContents$ucPager$btnNo5\\',\\'\\')\">5</a>\\n\\t\\n\\t\\n\\t\\n\\t\\n\\t\\n\\t\\n\\t<a id=\"cphContents_cphContents_cphContents_ucPager_btnLast\" title=\"마지막 페이지로 이동\" href=\"javascript:__doPostBack(\\'ctl00$ctl00$ctl00$cphContents$cphContents$cphContents$ucPager$btnLast\\',\\'\\')\"><img src=\"//lgcxydabfbch3774324.cdn.ntruss.com/KBO_IMAGE/KBOHome/resources/images/common/btn_paging_last.gif\" alt=\"맨끝으로\"></a>\\n</div>\\n\\t\\t\\t</div>\\n\\t\\t</div>\\n\\t</div>\\n</div>\\n\\n\\t</div>\\n</section>\\n\\n\\n\\t\\t    <!-- // container -->\\t\\n\\t\\t    <hr>\\n\\t\\t    <!-- footer -->\\n\\t\\t    <footer>\\n\\t\\t\\t    <div id=\"fnb\">\\n\\t\\t\\t\\t    <div class=\"wrapping fnb-wrap\">\\n\\t\\t\\t\\t\\t    <ul class=\"fnb-list\">\\n\\t\\t\\t\\t\\t\\t    <li class=\"privacy\"><a href=\"/Etc/Privacy.aspx\">개인정보 처리방침</a></li>\\n\\t\\t\\t\\t\\t\\t    <li><a href=\"/Schedule/ScoreBoard.aspx\">문자중계</a></li>\\n\\t\\t\\t\\t\\t\\t    <li><a href=\"/Board/Faqs/List.aspx\">고객질문</a></li>\\n\\t\\t\\t\\t\\t\\t    <li><a href=\"/Etc/SiteMap.aspx\">사이트맵</a></li>\\n\\t\\t\\t\\t\\t\\t    \\n\\t\\t\\t\\t\\t    </ul>\\n\\t\\t\\t\\t\\t    <div class=\"btn-kbo\"><a href=\"/About/Etc/TeamInfo.aspx\">KBO 리그 구단소개</a></div>\\n\\t\\t\\t\\t    </div>\\n\\t\\t\\t    </div>\\n\\t\\t\\t    <div id=\"kboInfo\" class=\"wrapping\">\\n\\t\\t\\t\\t    <h2><a href=\"/Etc/PressRelease.aspx\"><img src=\"//lgcxydabfbch3774324.cdn.ntruss.com/KBO_IMAGE/KBOHome/resources/images/common/h2_logo.png\" alt=\"KBO\"></a></h2>\\n\\t\\t\\t\\t    <address class=\"kbo-info\">\\n\\t\\t\\t\\t\\t    <div class=\"address01\">\\n\\t\\t\\t\\t\\t\\t    <p>(사)한국야구위원회</p>\\n\\t\\t\\t\\t\\t\\t\\t<p>02) 3460-4600</p>\\n\\t\\t\\t\\t\\t\\t\\t<p>서울시 강남구 강남대로 278</p>\\t\\t\\t\\t\\t\\n\\t\\t\\t\\t\\t    </div>\\n\\t\\t\\t\\t\\t    \\n\\t\\t\\t\\t    </address>\\n\\t\\t\\t\\t    <div class=\"copyright\">\\n\\t\\t\\t\\t\\t    <span>본 사이트는 스포츠투아이㈜가 KBO 리그 팬을 위해 운영하는 KBO 공식 사이트입니다. </span><br>\\n\\t\\t\\t\\t\\t    <span>Copyrightⓒ KBO, All Rights Reserved.</span>\\n\\t\\t\\t\\t    </div>\\n\\t\\t\\t\\t\\t<div class=\"certification\">\\n\\t\\t\\t\\t\\t\\t<img src=\"//lgcxydabfbch3774324.cdn.ntruss.com/KBO_IMAGE/KBOHome/resources/images/main/img_certification.png\" alt=\"w3c xhtml 3.0, Verisign\">\\n\\t\\t\\t\\t\\t</div>\\n\\t\\t\\t    </div>\\n\\t\\t    </footer>\\n\\t\\t    <!-- // footer -->\\n\\t    </div>\\n\\t    <!-- // wrap -->\\n    <span style=\"display: none !important;\"><input type=\"hidden\" name=\"__EVENTTARGET\" id=\"__EVENTTARGET\" value=\"\"></span><span style=\"display: none !important;\"><input type=\"hidden\" name=\"__EVENTARGUMENT\" id=\"__EVENTARGUMENT\" value=\"\"></span><span style=\"display: none !important;\"><input type=\"hidden\" name=\"__LASTFOCUS\" id=\"__LASTFOCUS\" value=\"\"></span><span style=\"display: none !important;\"><input type=\"hidden\" name=\"__VIEWSTATE\" id=\"__VIEWSTATE\" value=\"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\"></span><span style=\"display: none !important;\"><input type=\"hidden\" name=\"__VIEWSTATEGENERATOR\" id=\"__VIEWSTATEGENERATOR\" value=\"6942A5F7\"></span><span style=\"display: none !important;\"><input type=\"hidden\" name=\"__EVENTVALIDATION\" id=\"__EVENTVALIDATION\" value=\"/wEdABvxGhqyguScxahQ2TwHNIuFQ2B4FJs0ospwpODzYcZnkwEb89/cjvkLespfzFW0TCh0ID5u32Wu9DsGe3ew6dVgiVx6kVF0VGZJQWZrhVqbDfpEPAKjyxOEa4TumRQqngSuz8ymDRyZ9YseNRvSITkLq4ym2DyQjvtJtTj77nmU2SxU8kSoyaew+8cH10gkal/mFdUWslBO5btpZyMqdhF4JY/ImRWG9e44Fizmqo6gKVVlRfF3+6ImEs0Rr71fGadixqwW37sV/ACzqDxrfptqmN8UN67Y0NzXekKR1wwa4YzUt0HUF0hKGI30fWyS9XgXUmB2NNGHmh4A3piDkzwQumasTdki0Nxrfp/T+TKcdAhwEXCOcAoDsKjQoDqWzQm67A1wtdv0d/eP2rgGfHTFLrud7FiNq0L8BkCezMoQiiIEsp38v5tQJGTakYgKU9G0SJOG5m8osNqJPC8AHwhgHI2br7Hq3kyBQ5g9u5iBujKzmAcHn8eiPD9t2KIUxZgJUCFdSVPAuTkh2nJEjP8tdJZD6dJppL8i5D2fQRoVAalCuvpkbHcYZzQgPlhttdrLAnD7cSjaEm6VoFP3YPvH3+bZlX4bp+Lx+PJ0OYLGPQ==\"></span></form>\\n    \\n    \\n\\n    \\n    \\n    \\n<script type=\"text/javascript\">\\n    currentLnb(\"01\");\\n</script>\\n\\n\\n\\n    <script type=\"text/javascript\">\\n        $(document).ready(function () {\\n            // 선수 검색\\n            $(document).on(\"click\", \"#btnTopPlayerSearch\", function (e) {\\n                getPlayerSearch();\\n                e.preventDefault();\\n            });\\n\\n            // 선수 검색 엔터\\n            $(document).on(\"keypress\", \"#txtTopPlayerWord\", function (e) {\\n                if (event.keyCode == 13) {\\n                    getPlayerSearch();\\n                    e.preventDefault();\\n                }\\n            });\\n\\n            //// 선수 검색 마우스 아웃\\n            //$(\"body\").click(function (e) {\\n            //    var container = $(\"#player_search_area\");\\n\\n            //    if (container.css(\"display\") == \"block\") {\\n            //        if (!container.has(e.target).length) {\\n            //            container.hide();\\n            //        }\\n            //    }\\n            //});\\n        });\\n\\n        // 선수 검색\\n        function getPlayerSearch() {\\n            if ($(\"#txtTopPlayerWord\").val() == \"\") {\\n                alert(\"선수명은 필수 입니다.\");\\n                $(\"#txtTopPlayerWord\").focus();\\n                return false;\\n            } else {\\n                //var searchWord = encodeURI($(\"#txtTopPlayerWord\").val());\\n\\n                //if (searchWord != \"\") {\\n                //    location.href = \"/Player/Search.aspx?searchWord=\" + searchWord;\\n                //}\\n                var request = $.ajax({\\n                    type: \"post\"\\n                    , url: \"/ws/Controls.asmx/GetSearchPlayer\"\\n                    , dataType: \"json\"\\n                    , data: {\\n                        name: $(\"#txtTopPlayerWord\").val()\\n                    }\\n                    , error: ajaxFailed\\n                    , async: true\\n                });\\n\\n                request.done(function (data) {\\n                    if (data.code == \"100\") {\\n                        var container = $(\".search-result\");\\n                        container.children().remove();\\n\\n                        container.hide();\\n\\n                        if (data.now.length > 0 || data.retire.length > 0) {\\n                            // 2017-05-22 yeeun, 홍지희 사원 요청, 결과가 1명일 경우 바로 페이지 연결\\n                            if (data.now.length + data.retire.length == 1) {\\n                                var link = \"\";\\n\\n                                if (data.now.length == 1) {\\n                                    link = data.now[0][\"P_LINK\"];\\n                                } else {\\n                                    link = data.retire[0][\"P_LINK\"];\\n                                }\\n\\n                                location.href = link;\\n                            } else {\\n                                if (data.now.length > 0) {\\n                                    container.append($(\"<h4>등록 선수</h4>\"));\\n\\n                                    var div = $(\"<div class=\\'active\\' />\");\\n                                    div.children().remove();\\n\\n                                    setPlayerDiv(data.now, div, true);\\n\\n                                    container.append(div);\\n                                }\\n\\n                                if (data.retire.length > 0) {\\n                                    container.append($(\"<h4>역대 선수</h4>\"));\\n\\n                                    var div = $(\"<div class=\\'retire\\'/>\");\\n                                    div.children().remove();\\n\\n                                    setPlayerDiv(data.retire, div, false);\\n\\n                                    container.append(div);\\n                                }\\n\\n                                //container.append($(String.format(\"<p><a href=\\'/Player/Search.aspx?searchWord={0}\\'\\'>\\'{0}\\' 검색결과 모두 보기</a></p>\", $(\"#txtTopPlayerWord\").val())));\\n                                container.append($(\"<p><a href=\\'/Player/Search.aspx?searchWord=\" + $(\"#txtTopPlayerWord\").val() + \"\\'\\'>\\'\" + $(\"#txtTopPlayerWord\").val() + \"\\' 검색결과 모두 보기</a></p>\"));\\n                                container.show();\\n                            }\\n                        } else {\\n                            container.append($(\"<p class=\\'null\\'>검색 결과가 없습니다.</p>\"));\\n                            container.show();\\n                        }\\n                    }\\n                });\\n            }\\n        }\\n\\n        // 선수 검색 div \\n        function setPlayerDiv(list, div, isActive) {\\n            $.each(list, function (index, player) {\\n                var aLink = $(\"<a />\");\\n                aLink.attr(\"href\", player[\"P_LINK\"]);\\n\\n                var dl = $(\"<dl />\");\\n                var dt = $(\"<dt />\");\\n                var backNo = \"\";\\n\\n                if (isActive) {\\n                    //backNo = String.format(\"No.{0}\", player[\"BACK_NO\"]);\\n                    backNo = \"No.\" + player[\"BACK_NO\"];\\n                }\\n\\n                //dt.text(String.format(\"{0} {1}\", player[\"P_NM\"], backNo));\\n                dt.text(player[\"P_NM\"] + \" \" + backNo);\\n                dl.append(dt);\\n\\n                var dd = $(\"<dd />\");\\n                //dd.text(String.format(\"{0} {1}({2})\", player[\"T_NM\"], player[\"POS_NO\"], player[\"P_TYPE\"]));\\n                dd.text(player[\"T_NM\"] + \" \" + player[\"POS_NO\"] + \"(\" + player[\"P_TYPE\"] + \")\");\\n                dl.append(dd);\\n\\n                var ddImg = $(String.format(\"<dd class=\\'btn-arrow\\'><img src=\\'{0}/resources/images/common/btn_arrow_search.png\\' alt=\\'\\' /></dd>\", \"//lgcxydabfbch3774324.cdn.ntruss.com/KBO_IMAGE/KBOHome\"));\\n                dl.append(ddImg);\\n\\n                aLink.append(dl);\\n                div.append(aLink);\\n            });\\n        }\\n    </script>\\n\\n</body></html>'"
      ]
     },
     "execution_count": 75,
     "metadata": {},
     "output_type": "execute_result"
    }
   ],
   "source": [
    "driver.page_source"
   ]
  },
  {
   "cell_type": "code",
   "execution_count": 73,
   "metadata": {},
   "outputs": [
    {
     "data": {
      "text/plain": [
       "['cphContents_cphContents_cphContents_ucPager_btnNo1',\n",
       " 'cphContents_cphContents_cphContents_ucPager_btnNo2',\n",
       " 'cphContents_cphContents_cphContents_ucPager_btnNo3',\n",
       " 'cphContents_cphContents_cphContents_ucPager_btnNo4',\n",
       " 'cphContents_cphContents_cphContents_ucPager_btnNo5']"
      ]
     },
     "execution_count": 73,
     "metadata": {},
     "output_type": "execute_result"
    }
   ],
   "source": [
    "pattern.findall(driver.page_source)"
   ]
  },
  {
   "cell_type": "code",
   "execution_count": 74,
   "metadata": {},
   "outputs": [],
   "source": [
    "driver.find_element_by_css_selector(\"#cphContents_cphContents_cphContents_ucPager_btnNo5\").click()"
   ]
  },
  {
   "cell_type": "code",
   "execution_count": null,
   "metadata": {},
   "outputs": [],
   "source": [
    "driver.get(\"https://en-core.com/customer/cs\")"
   ]
  },
  {
   "cell_type": "code",
   "execution_count": 4,
   "metadata": {},
   "outputs": [],
   "source": [
    "driver.find_element_by_css_selector(\"#wm_kind > option:nth-child(2)\").click()"
   ]
  },
  {
   "cell_type": "code",
   "execution_count": 9,
   "metadata": {},
   "outputs": [],
   "source": [
    "driver.find_element_by_css_selector(\"#wm_company\").send_keys(\"테스트입니다.\")"
   ]
  },
  {
   "cell_type": "code",
   "execution_count": 8,
   "metadata": {},
   "outputs": [],
   "source": [
    "driver.find_element_by_css_selector(\"#wm_company\").clear()"
   ]
  },
  {
   "cell_type": "code",
   "execution_count": 10,
   "metadata": {},
   "outputs": [],
   "source": [
    "driver.find_element_by_css_selector(\"#wm_name\").send_keys(\"서찬웅\")"
   ]
  },
  {
   "cell_type": "code",
   "execution_count": 12,
   "metadata": {},
   "outputs": [],
   "source": [
    "import requests"
   ]
  },
  {
   "cell_type": "code",
   "execution_count": 13,
   "metadata": {},
   "outputs": [],
   "source": [
    "r= requests.get(\"https://seoul.craigslist.org/d/bicycles/search/bia\")"
   ]
  },
  {
   "cell_type": "code",
   "execution_count": 15,
   "metadata": {},
   "outputs": [],
   "source": [
    "from bs4 import BeautifulSoup"
   ]
  },
  {
   "cell_type": "code",
   "execution_count": 16,
   "metadata": {},
   "outputs": [],
   "source": [
    "bs = BeautifulSoup(r.text)"
   ]
  },
  {
   "cell_type": "code",
   "execution_count": 18,
   "metadata": {
    "collapsed": true
   },
   "outputs": [
    {
     "data": {
      "text/plain": [
       "[<span class=\"result-price\">₩1,200,000</span>,\n",
       " <span class=\"result-price\">₩1,200,000</span>,\n",
       " <span class=\"result-price\">₩220,000</span>,\n",
       " <span class=\"result-price\">₩220,000</span>,\n",
       " <span class=\"result-price\">₩750,000</span>,\n",
       " <span class=\"result-price\">₩750,000</span>,\n",
       " <span class=\"result-price\">₩350,000</span>,\n",
       " <span class=\"result-price\">₩350,000</span>,\n",
       " <span class=\"result-price\">₩320,000</span>,\n",
       " <span class=\"result-price\">₩320,000</span>,\n",
       " <span class=\"result-price\">₩180,000</span>,\n",
       " <span class=\"result-price\">₩180,000</span>,\n",
       " <span class=\"result-price\">₩95,000</span>,\n",
       " <span class=\"result-price\">₩95,000</span>,\n",
       " <span class=\"result-price\">₩200,000</span>,\n",
       " <span class=\"result-price\">₩200,000</span>,\n",
       " <span class=\"result-price\">₩150,000</span>,\n",
       " <span class=\"result-price\">₩150,000</span>,\n",
       " <span class=\"result-price\">₩300,000</span>,\n",
       " <span class=\"result-price\">₩300,000</span>,\n",
       " <span class=\"result-price\">₩40,000</span>,\n",
       " <span class=\"result-price\">₩40,000</span>,\n",
       " <span class=\"result-price\">₩300,000</span>,\n",
       " <span class=\"result-price\">₩300,000</span>,\n",
       " <span class=\"result-price\">₩180,000</span>,\n",
       " <span class=\"result-price\">₩180,000</span>,\n",
       " <span class=\"result-price\">₩500</span>,\n",
       " <span class=\"result-price\">₩500</span>,\n",
       " <span class=\"result-price\">₩160</span>,\n",
       " <span class=\"result-price\">₩160</span>,\n",
       " <span class=\"result-price\">₩140,000</span>,\n",
       " <span class=\"result-price\">₩140,000</span>,\n",
       " <span class=\"result-price\">₩280,000</span>,\n",
       " <span class=\"result-price\">₩280,000</span>,\n",
       " <span class=\"result-price\">₩1,900,000</span>,\n",
       " <span class=\"result-price\">₩1,900,000</span>,\n",
       " <span class=\"result-price\">₩120</span>,\n",
       " <span class=\"result-price\">₩120</span>,\n",
       " <span class=\"result-price\">₩50,000</span>,\n",
       " <span class=\"result-price\">₩50,000</span>,\n",
       " <span class=\"result-price\">₩250,000</span>,\n",
       " <span class=\"result-price\">₩250,000</span>,\n",
       " <span class=\"result-price\">₩250,000</span>,\n",
       " <span class=\"result-price\">₩250,000</span>,\n",
       " <span class=\"result-price\">₩160,000</span>,\n",
       " <span class=\"result-price\">₩160,000</span>,\n",
       " <span class=\"result-price\">₩140,000</span>,\n",
       " <span class=\"result-price\">₩140,000</span>,\n",
       " <span class=\"result-price\">₩650,000</span>,\n",
       " <span class=\"result-price\">₩650,000</span>,\n",
       " <span class=\"result-price\">₩50,000</span>,\n",
       " <span class=\"result-price\">₩50,000</span>,\n",
       " <span class=\"result-price\">₩60,000</span>,\n",
       " <span class=\"result-price\">₩60,000</span>,\n",
       " <span class=\"result-price\">₩600,000</span>,\n",
       " <span class=\"result-price\">₩600,000</span>,\n",
       " <span class=\"result-price\">₩140,000</span>,\n",
       " <span class=\"result-price\">₩140,000</span>,\n",
       " <span class=\"result-price\">₩100</span>,\n",
       " <span class=\"result-price\">₩100</span>]"
      ]
     },
     "execution_count": 18,
     "metadata": {},
     "output_type": "execute_result"
    }
   ],
   "source": [
    "bs.find_all('span', class_='result-price')"
   ]
  },
  {
   "cell_type": "code",
   "execution_count": 19,
   "metadata": {},
   "outputs": [],
   "source": [
    "driver.find_element_by_css_selector(\"#PostingTitle\").send_keys(\"test\")"
   ]
  },
  {
   "cell_type": "code",
   "execution_count": 20,
   "metadata": {
    "collapsed": true
   },
   "outputs": [
    {
     "data": {
      "text/plain": [
       "'<html class=\"js canvas draggable fileAPI geolocation hashChange matchMedia picture pushState placeholder no-touchCapable transitions\"><head>\\n    \\n\\t<meta charset=\"UTF-8\">\\n\\t<meta http-equiv=\"X-UA-Compatible\" content=\"IE=Edge\">\\n\\t<meta name=\"viewport\" content=\"width=device-width,initial-scale=1\">\\n\\t<meta property=\"og:site_name\" content=\"craigslist\">\\n\\t<meta property=\"og:title\" content=\"seoul | create posting\">\\n\\t<meta name=\"description\" content=\"seoul | create posting\">\\n\\t<meta property=\"og:description\" content=\"seoul | create posting\">\\n\\t<meta name=\"robots\" content=\"noarchive, noindex, nofollow, noimageindex\">\\n\\t<title>seoul | create posting</title>\\n\\t<base href=\"https://post.craigslist.org\">\\n\\n    <link type=\"text/css\" rel=\"stylesheet\" media=\"all\" href=\"//www.craigslist.org/styles/cl.css?v=5826de27c327d61d2169c6a45af814f9\">\\n    <link type=\"text/css\" rel=\"stylesheet\" media=\"all\" href=\"//www.craigslist.org/styles/postings.css?v=de73b1bd8a99899e2ffbf4ee78bfc247\">\\n    <link type=\"text/css\" rel=\"stylesheet\" media=\"all\" href=\"//www.craigslist.org/styles/posting-process.css?v=8be1178cc5859d7c53e3b5906d0ef502\">\\n    <link type=\"text/css\" rel=\"stylesheet\" media=\"all\" href=\"//www.craigslist.org/styles/jquery-ui-clcustom.css?v=3b05ddffb7c7f5b62066deff2dda9339\">\\n    \\n</head>\\n\\n<body class=\"post new-form desktop w1024\">\\n    <script type=\"text/javascript\" src=\"https://www.craigslist.org/js/bfp3-concat.min.js\"></script><script type=\"text/javascript\"><!--\\n    function C(k){return(document.cookie.match(\\'(^|; )\\'+k+\\'=([^;]*)\\')||0)[2]}\\n    var pagetype, pagemode;\\n    (function(){\\n        var h = document.documentElement;\\n        h.className = h.className.replace(\\'no-js\\', \\'js\\');\\n        var b = document.body;\\n        var bodyClassList = b.className.split(/\\\\s+/);;\\n        pagetype = bodyClassList[0]; // dangerous assumption\\n        var fmt = C(\\'cl_fmt\\');\\n        if ( fmt === \\'regular\\' || fmt === \\'mobile\\' ) {\\n            pagemode = fmt;\\n        } else if (screen.width <= 480) {\\n            pagemode = \\'mobile\\';\\n        } else {\\n            pagemode = \\'regular\\';\\n        }\\n        pagemode = pagemode === \\'mobile\\' ? \\'mobile\\' : \\'desktop\\';\\n        bodyClassList.push(pagemode);\\n        if (C(\\'hidesearch\\') === \\'1\\' && pagemode !== \\'mobile\\') {\\n            bodyClassList.push(\\'hide-search\\');\\n        }\\n        var width = window.innerWidth || document.documentElement.clientWidth;\\n        if (width > 1000) { bodyClassList.push(\\'w1024\\'); }\\n        if (typeof window.sectionBase !== \\'undefined\\') {\\n            var mode = (decodeURIComponent(C(\\'cl_tocmode\\') || \\'\\').match(new RegExp(window.sectionBase + \\':([^,]+)\\', \\'i\\')) || {})[1] || window.defaultView;\\n            if (mode) {\\n                bodyClassList.push(mode);\\n            }\\n        }\\n        b.className = bodyClassList.join(\\' \\');\\n    }());\\n--></script>\\n\\n\\n    <article class=\"page-container\">\\n        <div class=\"tryapp\">\\n    try the craigslist app »\\n    <a class=\"appstorebtn\" href=\"https://play.google.com/store/apps/details?id=org.craigslist.CraigslistMobile\">\\n        Android\\n    </a>\\n    <a class=\"appstorebtn\" href=\"https://apps.apple.com/us/app/craigslist/id1336642410\">\\n        iOS\\n    </a>\\n</div>\\n<header class=\"global-header wide\">\\n   <a class=\"header-logo\" name=\"logoLink\" href=\"https://www.craigslist.org\">CL</a>\\n\\n    <nav class=\"breadcrumbs-container\">\\n\\n<ul class=\"breadcrumbs\">\\n        <li class=\"crumb area\">\\n            <p>\\nseoul\\n                    <span class=\"breadcrumb-arrow\">&gt;</span>\\n            </p>\\n        </li>\\n\\n\\n        <li class=\"crumb section\">\\n            <p>\\njobs\\n                    <span class=\"breadcrumb-arrow\">&gt;</span>\\n            </p>\\n        </li>\\n\\n        <li class=\"crumb category\">\\n            <p>\\net cetera\\n                <span class=\"breadcrumb-arrow\">&gt;</span>\\n            </p>\\n        </li>\\n\\n</ul>\\n    </nav>\\n\\n<aside id=\"loginWidget\" class=\"highlight\">\\n<p>[ <a href=\"https://accounts.craigslist.org/login?rp=%2Fk%2FigR4skny6hGBpJ75jPdXhA%2FKYcv6&amp;rt=P\">log in</a> ]</p>\\n<p>[ <a href=\"https://accounts.craigslist.org/signup?rp=%2Fk%2FigR4skny6hGBpJ75jPdXhA%2FKYcv6&amp;rt=P\">create account</a> ]</p>\\n</aside>\\n\\n</header>\\n<header class=\"global-header narrow\">\\n   <a class=\"header-logo\" href=\"https://www.craigslist.org\">CL</a>\\n    <nav class=\"breadcrumbs-container\">\\n\\n<ul class=\"breadcrumbs\">\\n\\n\\nseoul            &gt;\\n\\net cetera\\n\\n</ul>\\n\\n\\n    </nav>\\n    <span class=\"linklike show-wide-header\">...</span>\\n</header>\\n\\n\\n\\n        \\n<section class=\"body\">\\n    <form id=\"postingForm\" action=\"https://post.craigslist.org/k/igR4skny6hGBpJ75jPdXhA/KYcv6\" method=\"post\">\\n        <div class=\"new-form\" id=\"new-edit\">\\n<link type=\"text/css\" rel=\"stylesheet\" media=\"all\" href=\"//www.craigslist.org/styles/JSONForm.css?v=669163091c584697f00769d8fb29b3dc\"><link type=\"text/css\" rel=\"stylesheet\" media=\"all\" href=\"//www.craigslist.org/styles/posting-process-edit.css?v=ced90a56c9616ed0c348cac3f64b20d8\"><div class=\"json-form\">\\n        <div class=\"json-form-group json-form-group-container posting-title-subform title row fields \">\\n<label class=\"json-form-item text PostingTitle req posting-title variant-text\">\\n    \\n        <div class=\"label-wrapper\">\\n                <span class=\"label\">posting title</span>\\n        </div>\\n    <label class=\"input PostingTitle\">\\n        <input class=\"json-form-input\" name=\"PostingTitle\" value=\"\" tabindex=\"1\" type=\"text\" autofocus=\"autofocus\" id=\"PostingTitle\" maxlength=\"70\">\\n    </label>\\n</label>\\n<label class=\"json-form-item text geographic_area neighborhood std variant-text\">\\n    \\n        <div class=\"label-wrapper\">\\n                <span class=\"label\">city or neighborhood</span>\\n        </div>\\n    <label class=\"input geographic_area\">\\n        <input class=\"json-form-input\" name=\"geographic_area\" value=\"\" tabindex=\"1\" type=\"text\" id=\"geographic_area\" maxlength=\"60\">\\n    </label>\\n</label>\\n<label class=\"json-form-item text postal std variant-text\">\\n    \\n        <div class=\"label-wrapper\">\\n                <span class=\"label\">postal code</span>\\n        </div>\\n    <label class=\"input postal\">\\n        <input class=\"json-form-input\" name=\"postal\" value=\"\" tabindex=\"1\" type=\"text\" id=\"postal_code\" maxlength=\"15\">\\n    </label>\\n</label>\\n        </div>\\n<div class=\"html json-form-item\">\\n<small class=\"onejobonly\">\\n    <b>Only one job description per posting please.</b>\\n    <br>\\n    <a target=\"_blank\" href=\"https://www.craigslist.org/about/help/faq-job\">\\n        Please see our FAQ for job posters\\n    </a>\\n</small>\\n\\n</div>\\n<label class=\"json-form-item textarea PostingBody req\">\\n    \\n        <div class=\"label-wrapper\">\\n                <span class=\"label\">description</span>\\n        </div>\\n    <textarea class=\"json-form-input PostingBody \" name=\"PostingBody\" placeholder=\"\" tabindex=\"1\" id=\"PostingBody\" rows=\"10\"></textarea>\\n</label>\\n        <fieldset class=\"json-form-group json-form-group-container posting-attributes\">\\n            <legend>posting details</legend>\\n            <div class=\"json-form-group posting-attributes \">\\n        <div class=\"json-form-group json-form-group-container posting-attributes-select \">\\n<label class=\"json-form-item select employment_type req variant-select\">\\n    \\n        <div class=\"label-wrapper\">\\n                <span class=\"label\">employment type</span>\\n        </div>\\n<select tabindex=\"1\" name=\"employment_type\" class=\"json-form-input no-js employment_type\" id=\"ui-id-1\" style=\"display: none;\">\\n    <option value=\"\">-</option>\\n    <option value=\"1\">full-time</option>\\n    <option value=\"2\">part-time</option>\\n    <option value=\"3\">contract</option>\\n    <option value=\"4\">employee\\'s choice</option>\\n</select><span class=\"ui-selectmenu-button ui-widget ui-state-default ui-corner-all\" tabindex=\"0\" id=\"ui-id-1-button\" role=\"combobox\" aria-expanded=\"false\" aria-autocomplete=\"list\" aria-owns=\"ui-id-1-menu\" aria-haspopup=\"true\" style=\"width: 88%;\"><span class=\"ui-icon ui-icon-triangle-1-s\"></span><span class=\"ui-selectmenu-text\">-</span></span>\\n</label>\\n\\n        </div>\\n        <div class=\"json-form-group json-form-group-container posting-attributes-boolean \">\\n<label class=\"json-form-item boolean recruiters_ok std variant-checkbox\">\\n    <input type=\"checkbox\" name=\"recruiters_ok\" value=\"1\" class=\"recruiters_ok\">\\n    \\n        <div class=\"label-wrapper\">\\n                <span class=\"label\">direct contact by recruiters is ok</span>\\n        </div>\\n</label>\\n<label class=\"json-form-item boolean is_internship std variant-checkbox\">\\n    <input type=\"checkbox\" name=\"is_internship\" value=\"1\" class=\"is_internship\">\\n    \\n        <div class=\"label-wrapper\">\\n                <span class=\"label\">internship</span>\\n        </div>\\n</label>\\n<label class=\"json-form-item boolean is_nonprofit std variant-checkbox\">\\n    <input type=\"checkbox\" name=\"is_nonprofit\" value=\"1\" class=\"is_nonprofit\">\\n    \\n        <div class=\"label-wrapper\">\\n                <span class=\"label\">non-profit organization</span>\\n        </div>\\n</label>\\n<label class=\"json-form-item boolean is_relocation_available std variant-checkbox\">\\n    <input type=\"checkbox\" name=\"is_relocation_available\" value=\"1\" class=\"is_relocation_available\">\\n    \\n        <div class=\"label-wrapper\">\\n                <span class=\"label\">relocation assistance available</span>\\n        </div>\\n</label>\\n<label class=\"json-form-item boolean is_telecommuting std variant-checkbox\">\\n    <input type=\"checkbox\" name=\"is_telecommuting\" value=\"1\" class=\"is_telecommuting\">\\n    \\n        <div class=\"label-wrapper\">\\n                <span class=\"label\">telecommuting ok</span>\\n        </div>\\n</label>\\n        </div>\\n            </div>\\n        </fieldset>\\n<label class=\"json-form-item text remuneration req variant-text\">\\n    \\n        <div class=\"label-wrapper\">\\n                <span class=\"label\">compensation</span>\\n        </div>\\n    <label class=\"input remuneration\">\\n        <input class=\"json-form-input\" name=\"remuneration\" value=\"\" tabindex=\"1\" type=\"text\" placeholder=\"describe compensation here (please be as detailed as possible)\">\\n    </label>\\n</label>\\n        <fieldset class=\"json-form-group json-form-group-container contact-info\">\\n            <legend>contact info</legend>\\n            <div class=\"json-form-group contact-info \">\\n        <div class=\"json-form-group json-form-group-container email-form \">\\n        <div class=\"json-form-group json-form-group-container email-form-text-input \">\\n<label class=\"json-form-item text FromEMail req variant-text\">\\n    \\n        <div class=\"label-wrapper\">\\n                <span class=\"label\">email</span>\\n        </div>\\n    <label class=\"input FromEMail df\">\\n        <input class=\"json-form-input\" name=\"FromEMail\" value=\"\" tabindex=\"1\" type=\"text\" placeholder=\"Your email address\" autocapitalize=\"off\" maxlength=\"60\">\\n    </label>\\n</label>\\n        </div>\\n        <div class=\"json-form-group json-form-group-container email-privacy \">\\n<label class=\"json-form-item select Privacy variant-radio\">\\n    \\n        <div class=\"label-wrapper\">\\n                <span class=\"label\">email privacy options</span>\\n<a class=\"help-link\" target=\"_blank\" title=\"how does mail relay work?\" href=\"https://www.craigslist.org/about/help/email-relay\">[?]</a>\\n\\n        </div>\\n    <label class=\"radio-option\">\\n        <input type=\"radio\" class=\"json-form-input Privacy\" name=\"Privacy\" value=\"C\" checked=\"\" title=\"craigslist will anonymize your email address\">\\n        <div>\\n            <span class=\"option-label\">CL mail relay (recommended)</span>\\n        </div>\\n    </label>\\n    <label class=\"radio-option\">\\n        <input type=\"radio\" class=\"json-form-input Privacy\" name=\"Privacy\" value=\"P\" title=\"your actual email address will appear in the posting\">\\n        <div>\\n            <span class=\"option-label\">show my real email address</span>\\n        </div>\\n    </label>\\n    <label class=\"radio-option\">\\n        <input type=\"radio\" class=\"json-form-input Privacy\" name=\"Privacy\" value=\"A\" title=\"no email address will appear in your posting - be sure to include other contact info!\">\\n        <div>\\n            <span class=\"option-label\">no replies to this email</span>\\n        </div>\\n    </label>\\n</label>\\n\\n        </div>\\n        </div>\\n        <fieldset class=\"json-form-group json-form-group-container contact-form\">\\n            <legend>phone/text</legend>\\n            <div class=\"json-form-group contact-form \">\\n<label class=\"json-form-item boolean show_phone_ok variant-checkbox\">\\n    <input type=\"checkbox\" name=\"show_phone_ok\" value=\"1\" class=\"show_phone_ok\">\\n    \\n        <div class=\"label-wrapper\">\\n                <span class=\"label\">show my phone number</span>\\n        </div>\\n</label>\\n        <div class=\"json-form-group json-form-group-container contact-form-booleans \">\\n<label class=\"json-form-item boolean contact_phone_ok variant-checkbox disabled\" data-depends-on=\"show_phone_ok\">\\n    <input type=\"checkbox\" name=\"contact_phone_ok\" value=\"1\" class=\"contact_phone_ok\" disabled=\"\">\\n    \\n        <div class=\"label-wrapper\">\\n                <span class=\"label\">phone calls OK</span>\\n        </div>\\n</label>\\n<label class=\"json-form-item boolean contact_text_ok variant-checkbox disabled\" data-depends-on=\"show_phone_ok\">\\n    <input type=\"checkbox\" name=\"contact_text_ok\" value=\"1\" class=\"contact_text_ok\" disabled=\"\">\\n    \\n        <div class=\"label-wrapper\">\\n                <span class=\"label\">text/sms OK</span>\\n        </div>\\n</label>\\n        </div>\\n        <div class=\"json-form-group json-form-group-container contact-form-text \">\\n<label class=\"json-form-item text contact_phone variant-tel disabled\" data-depends-on=\"show_phone_ok\">\\n    \\n        <div class=\"label-wrapper\">\\n                <span class=\"label\">phone number</span>\\n        </div>\\n    <label class=\"input contact_phone short-input\">\\n        <input class=\"json-form-input\" name=\"contact_phone\" value=\"\" tabindex=\"1\" type=\"tel\" disabled=\"\">\\n    </label>\\n</label>\\n<label class=\"json-form-item text contact_phone_extension variant-text disabled\" data-depends-on=\"show_phone_ok\">\\n    \\n        <div class=\"label-wrapper\">\\n                <span class=\"label\">extension</span>\\n        </div>\\n    <label class=\"input contact_phone_extension short-input\">\\n        <input class=\"json-form-input\" name=\"contact_phone_extension\" value=\"\" tabindex=\"1\" type=\"text\" disabled=\"\">\\n    </label>\\n</label>\\n<label class=\"json-form-item text contact_name variant-text disabled\" data-depends-on=\"show_phone_ok\">\\n    \\n        <div class=\"label-wrapper\">\\n                <span class=\"label\">contact name</span>\\n        </div>\\n    <label class=\"input contact_name\">\\n        <input class=\"json-form-input\" name=\"contact_name\" value=\"\" tabindex=\"1\" type=\"text\" disabled=\"\">\\n    </label>\\n</label>\\n<div class=\"html json-form-item phone-warning disabled\" data-depends-on=\"show_phone_ok\">\\n<div>\\n    ignore texts requesting your login or credit card.\\n    <a href=\"https://www.craigslist.org/about/scams\">avoid scams</a>\\n    <br>\\n</div>\\n</div>\\n        </div>\\n            </div>\\n        </fieldset>\\n            </div>\\n        </fieldset>\\n        <div class=\"json-form-group json-form-group-container permission-checkboxes \">\\n<label class=\"json-form-item boolean disability_ok variant-checkbox\">\\n    <input type=\"checkbox\" name=\"disability_ok\" value=\"1\" class=\"disability_ok\" tabindex=\"1\">\\n    \\n        <div class=\"label-wrapper\">\\n                <span class=\"label\">ok to highlight this job opening for persons with disabilities</span>\\n<a class=\"help-link\" target=\"_blank\" href=\"https://www.craigslist.org/about/disabilities\">[?]</a>\\n\\n        </div>\\n</label>\\n        </div>\\n        <div class=\"json-form-group json-form-group-container submit-buttons \">\\n<div class=\"submit_button\">\\n    <button type=\"submit\" name=\"go\" value=\"continue\" class=\"go big-button submit-button\" tabindex=\"1\">continue</button>\\n</div>\\n        </div>\\n<input type=\"hidden\" name=\"cryptedStepCheck\" value=\"U2FsdGVkX18xNzcyMzE3Nxuds5YXr--WYsnhEovoKi-Cn7v17m9dD4f7pcvYnYWq\" class=\"cryptedStepCheck\">\\n</div>\\n        </div>\\n    <input type=\"hidden\" name=\"browserinfo3\" value=\"{&quot;pow&quot;:&quot;1599620834:8e6e30fb44c061c066726b6d82579247&quot;,&quot;userAgent&quot;:&quot;Mozilla/5.0 (Windows NT 10.0; Win64; x64) AppleWebKit/537.36 (KHTML, like Gecko) Chrome/85.0.4183.102 Safari/537.36&quot;,&quot;webdriver&quot;:true,&quot;language&quot;:&quot;ko-KR&quot;,&quot;colorDepth&quot;:24,&quot;deviceMemory&quot;:8,&quot;hardwareConcurrency&quot;:4,&quot;screenResolution&quot;:[1920,1080],&quot;availableScreenResolution&quot;:[1920,1040],&quot;timezoneOffset&quot;:-540,&quot;timezone&quot;:&quot;Asia/Seoul&quot;,&quot;sessionStorage&quot;:true,&quot;localStorage&quot;:true,&quot;indexedDb&quot;:true,&quot;addBehavior&quot;:false,&quot;openDatabase&quot;:true,&quot;cpuClass&quot;:&quot;NA&quot;,&quot;platform&quot;:&quot;Win32&quot;,&quot;plugins&quot;:[[&quot;Chrome PDF Plugin&quot;,&quot;Portable Document Format&quot;,[[&quot;application/x-google-chrome-pdf&quot;,&quot;pdf&quot;]]],[&quot;Chrome PDF Viewer&quot;,&quot;&quot;,[[&quot;application/pdf&quot;,&quot;pdf&quot;]]],[&quot;Native Client&quot;,&quot;&quot;,[[&quot;application/x-nacl&quot;,&quot;&quot;],[&quot;application/x-pnacl&quot;,&quot;&quot;]]]],&quot;canvas&quot;:[&quot;canvas winding:yes&quot;,&quot;canvas fp:data:image/png;base64,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&quot;],&quot;webglVendorAndRenderer&quot;:&quot;Google Inc.~ANGLE (Intel(R) HD Graphics 5500 Direct3D11 vs_5_0 ps_5_0)&quot;,&quot;adBlock&quot;:false,&quot;hasLiedLanguages&quot;:false,&quot;hasLiedResolution&quot;:false,&quot;hasLiedOs&quot;:false,&quot;hasLiedBrowser&quot;:false,&quot;touchSupport&quot;:[0,false,false],&quot;fonts&quot;:[&quot;Arial&quot;,&quot;Arial Black&quot;,&quot;Arial Narrow&quot;,&quot;Calibri&quot;,&quot;Cambria&quot;,&quot;Cambria Math&quot;,&quot;Comic Sans MS&quot;,&quot;Consolas&quot;,&quot;Courier&quot;,&quot;Courier New&quot;,&quot;Georgia&quot;,&quot;Helvetica&quot;,&quot;Impact&quot;,&quot;Lucida Console&quot;,&quot;Lucida Sans Unicode&quot;,&quot;Microsoft Sans Serif&quot;,&quot;MS Gothic&quot;,&quot;MS PGothic&quot;,&quot;MS Sans Serif&quot;,&quot;MS Serif&quot;,&quot;Palatino Linotype&quot;,&quot;Segoe Print&quot;,&quot;Segoe Script&quot;,&quot;Segoe UI&quot;,&quot;Segoe UI Light&quot;,&quot;Segoe UI Semibold&quot;,&quot;Segoe UI Symbol&quot;,&quot;Tahoma&quot;,&quot;Times&quot;,&quot;Times New Roman&quot;,&quot;Trebuchet MS&quot;,&quot;Verdana&quot;,&quot;Wingdings&quot;,&quot;Batang&quot;,&quot;BatangChe&quot;,&quot;Candara&quot;,&quot;Constantia&quot;,&quot;Corbel&quot;,&quot;Dotum&quot;,&quot;DotumChe&quot;,&quot;Ebrima&quot;,&quot;Gabriola&quot;,&quot;Gulim&quot;,&quot;GulimChe&quot;,&quot;Gungsuh&quot;,&quot;GungsuhChe&quot;,&quot;Malgun Gothic&quot;,&quot;Marlett&quot;,&quot;Meiryo&quot;,&quot;Meiryo UI&quot;,&quot;Microsoft Himalaya&quot;,&quot;Microsoft JhengHei&quot;,&quot;Microsoft New Tai Lue&quot;,&quot;Microsoft PhagsPa&quot;,&quot;Microsoft Tai Le&quot;,&quot;Microsoft YaHei&quot;,&quot;Microsoft Yi Baiti&quot;,&quot;MingLiU_HKSCS-ExtB&quot;,&quot;MingLiU-ExtB&quot;,&quot;Mongolian Baiti&quot;,&quot;MS UI Gothic&quot;,&quot;MV Boli&quot;,&quot;NSimSun&quot;,&quot;PMingLiU-ExtB&quot;,&quot;SimSun&quot;,&quot;SimSun-ExtB&quot;,&quot;Sylfaen&quot;]}\"></form>\\n</section>\\n\\n\\n    </article>\\n\\n    \\n        <script type=\"text/javascript\"><!--\\nvar areaAbb = \"sel\";\\nvar maptileBaseUrl = \"//map{s}.craigslist.org/t09/{z}/{x}/{y}.png\";\\n--></script>\\n    \\n    \\n                <script>\\n                try {\\n                    if (\\n                        !/\\\\/\\\\/.+\\\\.craigslist\\\\.org\\\\/about\\\\//.test(window.location.href)\\n                        &&\\n                        (!window.addEventListener || JSON.parse(JSON.stringify(\\'x\\')) !== \\'x\\')\\n                    ) {\\n                        throw \"unsupported browser\";\\n                    }\\n                } catch (e) {\\n                    function cleanup() {\\n                        document.body.innerHTML = \\'<div id=\"cl-unsupported-browser\" style=\"margin:1em;font-size:150%;text-align:center;\">We have detected you are using a browser that is missing critical features.<br><br>Please visit craigslist from a modern browser.</div>\\';\\n                        document.body.style = \"display:block\";\\n                    }\\n\\n                    try {\\n                        document.body.style = \"display:none\";\\n                    } catch (e) {\\n                    }\\n                    window.onload = cleanup;\\n                    window.clUnsupportedBrowser = true;\\n                }\\n                </script>\\n            <script src=\"//www.craigslist.org/js/general-concat.min.js?v=22999a92e21a6f61f2a0787425b82bca\" type=\"text/javascript\"></script>\\n\\n    <script src=\"//www.craigslist.org/js/compatibility2.min.js?v=fd630767e654dff573113fe397b9a60d\" type=\"text/javascript\"></script>\\n\\n    \\n    <script src=\"//www.craigslist.org/js/postingform-concat.min.js?v=d0b610110e8d3854348ad323f116d72c\" type=\"text/javascript\"></script>\\n\\n    <script src=\"//www.craigslist.org/js/postings-concat.min.js?v=93411d66847306157541370a2aa96f35\" type=\"text/javascript\"></script>\\n\\n\\n\\n<iframe src=\"https://www.craigslist.org/static/www/localStorage-b2c30773fe82c3d5e475613ad0f725fa9ab277fb.html\" style=\"display: none;\"></iframe><div class=\"ui-selectmenu-menu ui-front\"><ul aria-hidden=\"true\" aria-labelledby=\"ui-id-1-button\" id=\"ui-id-1-menu\" class=\"ui-menu ui-widget ui-widget-content ui-corner-bottom\" role=\"listbox\" tabindex=\"0\"></ul></div></body></html>'"
      ]
     },
     "execution_count": 20,
     "metadata": {},
     "output_type": "execute_result"
    }
   ],
   "source": [
    "driver.page_source"
   ]
  },
  {
   "cell_type": "code",
   "execution_count": 23,
   "metadata": {},
   "outputs": [],
   "source": [
    "driver.get(\"https://nid.naver.com/nidlogin.login?mode=form&url=https%3A%2F%2Fwww.naver.com\")"
   ]
  },
  {
   "cell_type": "code",
   "execution_count": 24,
   "metadata": {},
   "outputs": [],
   "source": [
    "driver.find_element_by_css_selector(\"#id\").send_keys(\"afafdf\")"
   ]
  },
  {
   "cell_type": "code",
   "execution_count": null,
   "metadata": {},
   "outputs": [],
   "source": []
  },
  {
   "cell_type": "markdown",
   "metadata": {},
   "source": [
    "### KBO"
   ]
  },
  {
   "cell_type": "code",
   "execution_count": 126,
   "metadata": {},
   "outputs": [],
   "source": [
    "driver = webdriver.Chrome(\"c:/Chrome/chromedriver.exe\")"
   ]
  },
  {
   "cell_type": "code",
   "execution_count": 133,
   "metadata": {},
   "outputs": [],
   "source": [
    "d.get(\"https://www.koreabaseball.com/Player/Search.aspx\")"
   ]
  },
  {
   "cell_type": "code",
   "execution_count": 135,
   "metadata": {},
   "outputs": [],
   "source": [
    "d.find_element_by_css_selector(\"#cphContents_cphContents_cphContents_ddlTeam > option:nth-child(2)\").click()"
   ]
  },
  {
   "cell_type": "markdown",
   "metadata": {},
   "source": [
    "cphContents_cphContents_cphContents_ucPager_btnNo1"
   ]
  },
  {
   "cell_type": "code",
   "execution_count": 151,
   "metadata": {},
   "outputs": [
    {
     "data": {
      "text/plain": [
       "['1', '2', '3', '4', '5']"
      ]
     },
     "execution_count": 151,
     "metadata": {},
     "output_type": "execute_result"
    }
   ],
   "source": [
    "import re\n",
    "pattern = re.compile(\"cphContents_cphContents_cphContents_ucPager_btnNo([0-9])\")\n",
    "pattern.findall(d.page_source)"
   ]
  },
  {
   "cell_type": "code",
   "execution_count": 153,
   "metadata": {},
   "outputs": [
    {
     "data": {
      "text/plain": [
       "'1'"
      ]
     },
     "execution_count": 153,
     "metadata": {},
     "output_type": "execute_result"
    }
   ],
   "source": [
    "\"{}\".format('1')"
   ]
  },
  {
   "cell_type": "code",
   "execution_count": null,
   "metadata": {},
   "outputs": [],
   "source": [
    "playerId=60339\""
   ]
  },
  {
   "cell_type": "code",
   "execution_count": 145,
   "metadata": {},
   "outputs": [
    {
     "name": "stdout",
     "output_type": "stream",
     "text": [
      "['61295', '79358', '62925', '50905', '65933', '67991', '63963', '60339', '65462', '67900', '69980', '62934', '68900', '67989', '63920', '66943', '75867', '67954', '66917', '68906']\n"
     ]
    }
   ],
   "source": [
    "pattern2 = re.compile(\"\"\"playerId=([0-9]+)\"\"\")\n",
    "rt = pattern2.findall(d.page_source)\n",
    "print (rt)"
   ]
  },
  {
   "cell_type": "markdown",
   "metadata": {},
   "source": [
    "[x.split(\"=\")[-1] for x in rt]"
   ]
  },
  {
   "cell_type": "markdown",
   "metadata": {},
   "source": [
    "pattern3 = re.compile(\"\"\"Basic.aspx\\?playerId=([\\d]+)\"\"\")\n",
    "pattern3.findall(d.page_source)"
   ]
  },
  {
   "cell_type": "code",
   "execution_count": 157,
   "metadata": {},
   "outputs": [],
   "source": [
    "import time"
   ]
  },
  {
   "cell_type": "code",
   "execution_count": 159,
   "metadata": {},
   "outputs": [],
   "source": [
    "# 팀 선택 url1\n",
    "url1 = \"\"\"#cphContents_cphContents_cphContents_ddlTeam > option:nth-child({})\"\"\"\n",
    "# page 선택\n",
    "url2 = \"\"\"#cphContents_cphContents_cphContents_ucPager_btnNo{}\"\"\"\n",
    "pattern = re.compile(\"cphContents_cphContents_cphContents_ucPager_btnNo([0-9])\")\n",
    "pattern2 = re.compile(\"\"\"playerId=([0-9]+)\"\"\")\n",
    "total = []\n",
    "for x in range(2, 12):\n",
    "    d.find_element_by_css_selector(url1.format(x)).click()\n",
    "    time.sleep(1)\n",
    "    # 페이지 번호 확인 \n",
    "    for y in pattern.findall(d.page_source):\n",
    "        d.find_element_by_css_selector(url2.format(y)).click()\n",
    "        time.sleep(1)\n",
    "        rt = pattern2.findall(d.page_source)\n",
    "        total.extend(rt)  "
   ]
  },
  {
   "cell_type": "code",
   "execution_count": 160,
   "metadata": {},
   "outputs": [
    {
     "data": {
      "text/plain": [
       "885"
      ]
     },
     "execution_count": 160,
     "metadata": {},
     "output_type": "execute_result"
    }
   ],
   "source": [
    "len(total)"
   ]
  },
  {
   "cell_type": "code",
   "execution_count": null,
   "metadata": {},
   "outputs": [],
   "source": []
  },
  {
   "cell_type": "markdown",
   "metadata": {},
   "source": [
    "### dict 만들기"
   ]
  },
  {
   "cell_type": "code",
   "execution_count": 167,
   "metadata": {},
   "outputs": [],
   "source": [
    "pattern3 = re.compile(\"\"\"playerId=[0-9]+\">([가-힣]+)</a\"\"\")"
   ]
  },
  {
   "cell_type": "code",
   "execution_count": 171,
   "metadata": {},
   "outputs": [
    {
     "data": {
      "text/plain": [
       "{'61295': '강동연',\n",
       " '79358': '강윤구',\n",
       " '62925': '강진성',\n",
       " '50905': '강태경',\n",
       " '65933': '구창모',\n",
       " '67991': '권법수',\n",
       " '63963': '권희동',\n",
       " '60339': '김건태',\n",
       " '65462': '김기환',\n",
       " '67900': '김민수',\n",
       " '69980': '김범준',\n",
       " '62934': '김성욱',\n",
       " '68900': '김영규',\n",
       " '67989': '김영중',\n",
       " '63920': '김준완',\n",
       " '66943': '김준현',\n",
       " '75867': '김진성',\n",
       " '67954': '김진호',\n",
       " '66917': '김찬형',\n",
       " '68906': '김철호'}"
      ]
     },
     "execution_count": 171,
     "metadata": {},
     "output_type": "execute_result"
    }
   ],
   "source": [
    "dict(zip(pattern2.findall(d.page_source), pattern3.findall(d.page_source)))"
   ]
  },
  {
   "cell_type": "code",
   "execution_count": null,
   "metadata": {},
   "outputs": [],
   "source": []
  },
  {
   "cell_type": "code",
   "execution_count": null,
   "metadata": {},
   "outputs": [],
   "source": []
  },
  {
   "cell_type": "code",
   "execution_count": null,
   "metadata": {},
   "outputs": [],
   "source": []
  },
  {
   "cell_type": "code",
   "execution_count": null,
   "metadata": {},
   "outputs": [],
   "source": []
  },
  {
   "cell_type": "code",
   "execution_count": null,
   "metadata": {},
   "outputs": [],
   "source": []
  },
  {
   "cell_type": "code",
   "execution_count": null,
   "metadata": {},
   "outputs": [],
   "source": []
  },
  {
   "cell_type": "code",
   "execution_count": null,
   "metadata": {},
   "outputs": [],
   "source": []
  },
  {
   "cell_type": "code",
   "execution_count": null,
   "metadata": {},
   "outputs": [],
   "source": []
  },
  {
   "cell_type": "code",
   "execution_count": 36,
   "metadata": {},
   "outputs": [],
   "source": [
    "driver.get(\"https://rtdown.molit.go.kr/new/idx/main.do\")"
   ]
  },
  {
   "cell_type": "code",
   "execution_count": 38,
   "metadata": {},
   "outputs": [],
   "source": [
    "driver.find_element_by_css_selector(\"body > div.header > div.menu_nav_wrap > ul > li.offer_t > a\").click()"
   ]
  },
  {
   "cell_type": "code",
   "execution_count": 48,
   "metadata": {},
   "outputs": [],
   "source": [
    "driver.get(\"http://rtdown.molit.go.kr/countLog.do\")"
   ]
  },
  {
   "cell_type": "code",
   "execution_count": 57,
   "metadata": {},
   "outputs": [],
   "source": [
    "driver.find_element_by_css_selector(\"#searchFromDt\").clear()"
   ]
  },
  {
   "cell_type": "code",
   "execution_count": 60,
   "metadata": {},
   "outputs": [],
   "source": [
    "driver.find_element_by_css_selector(\"#searchToDt\").clear()"
   ]
  },
  {
   "cell_type": "code",
   "execution_count": 52,
   "metadata": {},
   "outputs": [],
   "source": [
    "driver.find_element_by_css_selector(\"#fileType > option:nth-child(2)\").click()"
   ]
  },
  {
   "cell_type": "code",
   "execution_count": 58,
   "metadata": {},
   "outputs": [],
   "source": [
    "driver.find_element_by_css_selector(\"#searchFromDt\").send_keys(\"20200101\")"
   ]
  },
  {
   "cell_type": "code",
   "execution_count": 61,
   "metadata": {},
   "outputs": [],
   "source": [
    "driver.find_element_by_css_selector(\"#searchToDt\").send_keys(\"20200131\")"
   ]
  },
  {
   "cell_type": "code",
   "execution_count": 62,
   "metadata": {},
   "outputs": [],
   "source": [
    "driver.find_element_by_css_selector(\"#listForm > div > table:nth-child(2) > tbody > tr:nth-child(2) > td > a > img\").click()"
   ]
  },
  {
   "cell_type": "code",
   "execution_count": null,
   "metadata": {},
   "outputs": [],
   "source": []
  },
  {
   "cell_type": "code",
   "execution_count": null,
   "metadata": {},
   "outputs": [],
   "source": []
  }
 ],
 "metadata": {
  "kernelspec": {
   "display_name": "Python 3",
   "language": "python",
   "name": "python3"
  },
  "language_info": {
   "codemirror_mode": {
    "name": "ipython",
    "version": 3
   },
   "file_extension": ".py",
   "mimetype": "text/x-python",
   "name": "python",
   "nbconvert_exporter": "python",
   "pygments_lexer": "ipython3",
   "version": "3.8.3"
  }
 },
 "nbformat": 4,
 "nbformat_minor": 4
}
